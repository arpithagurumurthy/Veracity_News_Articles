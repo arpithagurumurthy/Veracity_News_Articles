{
  "nbformat": 4,
  "nbformat_minor": 0,
  "metadata": {
    "colab": {
      "provenance": [],
      "collapsed_sections": []
    },
    "kernelspec": {
      "name": "python3",
      "display_name": "Python 3"
    },
    "language_info": {
      "name": "python"
    },
    "widgets": {
      "application/vnd.jupyter.widget-state+json": {
        "bbdd711d51f44636b829e2491ce31e35": {
          "model_module": "@jupyter-widgets/controls",
          "model_name": "ButtonModel",
          "state": {
            "_view_name": "ButtonView",
            "style": "IPY_MODEL_24cc5daecedd490499f23db956f5ad4a",
            "_dom_classes": [],
            "description": "Get Feed",
            "_model_name": "ButtonModel",
            "button_style": "",
            "_view_module": "@jupyter-widgets/controls",
            "_model_module_version": "1.5.0",
            "tooltip": "",
            "_view_count": null,
            "disabled": false,
            "_view_module_version": "1.5.0",
            "layout": "IPY_MODEL_d9b6953a959542eeb9bf7cf3e3819508",
            "_model_module": "@jupyter-widgets/controls",
            "icon": ""
          },
          "model_module_version": "1.5.0"
        },
        "24cc5daecedd490499f23db956f5ad4a": {
          "model_module": "@jupyter-widgets/controls",
          "model_name": "ButtonStyleModel",
          "state": {
            "_view_name": "StyleView",
            "_model_name": "ButtonStyleModel",
            "_view_module": "@jupyter-widgets/base",
            "_model_module_version": "1.5.0",
            "_view_count": null,
            "button_color": null,
            "font_weight": "",
            "_view_module_version": "1.2.0",
            "_model_module": "@jupyter-widgets/controls"
          },
          "model_module_version": "1.5.0"
        },
        "d9b6953a959542eeb9bf7cf3e3819508": {
          "model_module": "@jupyter-widgets/base",
          "model_name": "LayoutModel",
          "state": {
            "_view_name": "LayoutView",
            "grid_template_rows": null,
            "right": null,
            "justify_content": null,
            "_view_module": "@jupyter-widgets/base",
            "overflow": null,
            "_model_module_version": "1.2.0",
            "_view_count": null,
            "flex_flow": null,
            "width": null,
            "min_width": null,
            "border": null,
            "align_items": null,
            "bottom": null,
            "_model_module": "@jupyter-widgets/base",
            "top": null,
            "grid_column": null,
            "overflow_y": null,
            "overflow_x": null,
            "grid_auto_flow": null,
            "grid_area": null,
            "grid_template_columns": null,
            "flex": null,
            "_model_name": "LayoutModel",
            "justify_items": null,
            "grid_row": null,
            "max_height": null,
            "align_content": null,
            "visibility": null,
            "align_self": null,
            "height": null,
            "min_height": null,
            "padding": null,
            "grid_auto_rows": null,
            "grid_gap": null,
            "max_width": null,
            "order": null,
            "_view_module_version": "1.2.0",
            "grid_template_areas": null,
            "object_position": null,
            "object_fit": null,
            "grid_auto_columns": null,
            "margin": null,
            "display": null,
            "left": null
          },
          "model_module_version": "1.2.0"
        },
        "54c6992048db4bb9979ca0737f057eca": {
          "model_module": "@jupyter-widgets/output",
          "model_name": "OutputModel",
          "state": {
            "_view_name": "OutputView",
            "msg_id": "",
            "_dom_classes": [],
            "_model_name": "OutputModel",
            "outputs": [],
            "_view_module": "@jupyter-widgets/output",
            "_model_module_version": "1.0.0",
            "_view_count": null,
            "_view_module_version": "1.0.0",
            "layout": "IPY_MODEL_ada51e8035154ea0bf6e4ddd903fa102",
            "_model_module": "@jupyter-widgets/output"
          },
          "model_module_version": "1.0.0"
        },
        "ada51e8035154ea0bf6e4ddd903fa102": {
          "model_module": "@jupyter-widgets/base",
          "model_name": "LayoutModel",
          "state": {
            "_view_name": "LayoutView",
            "grid_template_rows": null,
            "right": null,
            "justify_content": null,
            "_view_module": "@jupyter-widgets/base",
            "overflow": null,
            "_model_module_version": "1.2.0",
            "_view_count": null,
            "flex_flow": null,
            "width": null,
            "min_width": null,
            "border": null,
            "align_items": null,
            "bottom": null,
            "_model_module": "@jupyter-widgets/base",
            "top": null,
            "grid_column": null,
            "overflow_y": null,
            "overflow_x": null,
            "grid_auto_flow": null,
            "grid_area": null,
            "grid_template_columns": null,
            "flex": null,
            "_model_name": "LayoutModel",
            "justify_items": null,
            "grid_row": null,
            "max_height": null,
            "align_content": null,
            "visibility": null,
            "align_self": null,
            "height": null,
            "min_height": null,
            "padding": null,
            "grid_auto_rows": null,
            "grid_gap": null,
            "max_width": null,
            "order": null,
            "_view_module_version": "1.2.0",
            "grid_template_areas": null,
            "object_position": null,
            "object_fit": null,
            "grid_auto_columns": null,
            "margin": null,
            "display": null,
            "left": null
          },
          "model_module_version": "1.2.0"
        }
      }
    }
  },
  "cells": [
    {
      "cell_type": "markdown",
      "metadata": {
        "id": "G-5PS92Ims_q"
      },
      "source": [
        "Arpitha Gurumurthy </br>\n",
        "Team: Amalgam\n",
        "# **Automated Inference Pipeline**\n",
        "### **Factor: Style Based approaches for fake news detection**\n",
        "There are mainly two typical categories of style-based\n",
        "methods: \n",
        "* Deception-oriented\n",
        "* Objectivity-oriented\n",
        "  * hyperpartisan styles and yellow-journalism.\n",
        "\n",
        "\n",
        "\n",
        "**Micro factors chosen:**\n",
        "* Hyperpartisan: Extremely one sided\n",
        "* Yellow Journalism: relying on eye-catching headlines\n",
        "* Deception/Lying in text (Implementing as part of Rhetoric structure)"
      ]
    },
    {
      "cell_type": "markdown",
      "metadata": {
        "id": "4kZmLSw3YI8o"
      },
      "source": [
        "**Information on dates for the datasets.**\n",
        "* Yellow Jounalism - used politifact dataset for dates 2020-07-01 to 2021-04-08\n",
        "* Deception detection- Kaggle fake news dataset: https://www.kaggle.com/surekharamireddy/fake-news-detection\n",
        "* Hyperpartisan - SemEval Hyperpartisan News Detection task dataset for dates ('1902-02-01') - ('2018-08-28')\n",
        "https://pan.webis.de/semeval19/semeval19-web/"
      ]
    },
    {
      "cell_type": "markdown",
      "metadata": {
        "id": "XNelSyXenphR"
      },
      "source": [
        "## **Pre-requisites**\n",
        "Installing required libraries and scraping data"
      ]
    },
    {
      "cell_type": "code",
      "metadata": {
        "colab": {
          "base_uri": "https://localhost:8080/"
        },
        "id": "KtfI6jIOXaTY",
        "outputId": "fd152d58-b584-48fe-a914-4f928c6cea3d"
      },
      "source": [
        "from google.colab import drive\n",
        "drive.mount('/content/gdrive')"
      ],
      "execution_count": null,
      "outputs": [
        {
          "output_type": "stream",
          "text": [
            "Mounted at /content/gdrive\n"
          ],
          "name": "stdout"
        }
      ]
    },
    {
      "cell_type": "code",
      "metadata": {
        "colab": {
          "base_uri": "https://localhost:8080/"
        },
        "id": "bRZ0Gxg7qALJ",
        "outputId": "80034e01-1f17-416c-d75b-0ead8dcb8cac"
      },
      "source": [
        "%cd /content/gdrive/My Drive/Pickle_Models"
      ],
      "execution_count": null,
      "outputs": [
        {
          "output_type": "stream",
          "text": [
            "/content/gdrive/My Drive/Pickle_Models\n"
          ],
          "name": "stdout"
        }
      ]
    },
    {
      "cell_type": "code",
      "metadata": {
        "id": "ewCAWhyR_LYf"
      },
      "source": [
        "import warnings\n",
        "warnings.filterwarnings('ignore')"
      ],
      "execution_count": null,
      "outputs": []
    },
    {
      "cell_type": "code",
      "metadata": {
        "colab": {
          "base_uri": "https://localhost:8080/"
        },
        "id": "W5mgaAxNwOAT",
        "outputId": "4ef3c6f3-e31b-4fe1-cdf8-efbf218af85a"
      },
      "source": [
        "pip install newspaper3k"
      ],
      "execution_count": null,
      "outputs": [
        {
          "output_type": "stream",
          "text": [
            "Collecting newspaper3k\n",
            "\u001b[?25l  Downloading https://files.pythonhosted.org/packages/d7/b9/51afecb35bb61b188a4b44868001de348a0e8134b4dfa00ffc191567c4b9/newspaper3k-0.2.8-py3-none-any.whl (211kB)\n",
            "\r\u001b[K     |█▌                              | 10kB 14.2MB/s eta 0:00:01\r\u001b[K     |███                             | 20kB 20.1MB/s eta 0:00:01\r\u001b[K     |████▋                           | 30kB 12.9MB/s eta 0:00:01\r\u001b[K     |██████▏                         | 40kB 10.3MB/s eta 0:00:01\r\u001b[K     |███████▊                        | 51kB 7.9MB/s eta 0:00:01\r\u001b[K     |█████████▎                      | 61kB 8.5MB/s eta 0:00:01\r\u001b[K     |██████████▉                     | 71kB 8.4MB/s eta 0:00:01\r\u001b[K     |████████████▍                   | 81kB 8.8MB/s eta 0:00:01\r\u001b[K     |██████████████                  | 92kB 8.5MB/s eta 0:00:01\r\u001b[K     |███████████████▌                | 102kB 8.0MB/s eta 0:00:01\r\u001b[K     |█████████████████               | 112kB 8.0MB/s eta 0:00:01\r\u001b[K     |██████████████████▋             | 122kB 8.0MB/s eta 0:00:01\r\u001b[K     |████████████████████▏           | 133kB 8.0MB/s eta 0:00:01\r\u001b[K     |█████████████████████▊          | 143kB 8.0MB/s eta 0:00:01\r\u001b[K     |███████████████████████▎        | 153kB 8.0MB/s eta 0:00:01\r\u001b[K     |████████████████████████▉       | 163kB 8.0MB/s eta 0:00:01\r\u001b[K     |██████████████████████████▍     | 174kB 8.0MB/s eta 0:00:01\r\u001b[K     |████████████████████████████    | 184kB 8.0MB/s eta 0:00:01\r\u001b[K     |█████████████████████████████▌  | 194kB 8.0MB/s eta 0:00:01\r\u001b[K     |███████████████████████████████ | 204kB 8.0MB/s eta 0:00:01\r\u001b[K     |████████████████████████████████| 215kB 8.0MB/s \n",
            "\u001b[?25hRequirement already satisfied: nltk>=3.2.1 in /usr/local/lib/python3.7/dist-packages (from newspaper3k) (3.2.5)\n",
            "Requirement already satisfied: lxml>=3.6.0 in /usr/local/lib/python3.7/dist-packages (from newspaper3k) (4.2.6)\n",
            "Requirement already satisfied: PyYAML>=3.11 in /usr/local/lib/python3.7/dist-packages (from newspaper3k) (3.13)\n",
            "Collecting jieba3k>=0.35.1\n",
            "\u001b[?25l  Downloading https://files.pythonhosted.org/packages/a9/cb/2c8332bcdc14d33b0bedd18ae0a4981a069c3513e445120da3c3f23a8aaa/jieba3k-0.35.1.zip (7.4MB)\n",
            "\u001b[K     |████████████████████████████████| 7.4MB 8.5MB/s \n",
            "\u001b[?25hCollecting cssselect>=0.9.2\n",
            "  Downloading https://files.pythonhosted.org/packages/3b/d4/3b5c17f00cce85b9a1e6f91096e1cc8e8ede2e1be8e96b87ce1ed09e92c5/cssselect-1.1.0-py2.py3-none-any.whl\n",
            "Collecting feedfinder2>=0.0.4\n",
            "  Downloading https://files.pythonhosted.org/packages/35/82/1251fefec3bb4b03fd966c7e7f7a41c9fc2bb00d823a34c13f847fd61406/feedfinder2-0.0.4.tar.gz\n",
            "Collecting feedparser>=5.2.1\n",
            "\u001b[?25l  Downloading https://files.pythonhosted.org/packages/1c/21/faf1bac028662cc8adb2b5ef7a6f3999a765baa2835331df365289b0ca56/feedparser-6.0.2-py3-none-any.whl (80kB)\n",
            "\u001b[K     |████████████████████████████████| 81kB 5.2MB/s \n",
            "\u001b[?25hRequirement already satisfied: Pillow>=3.3.0 in /usr/local/lib/python3.7/dist-packages (from newspaper3k) (7.1.2)\n",
            "Requirement already satisfied: requests>=2.10.0 in /usr/local/lib/python3.7/dist-packages (from newspaper3k) (2.23.0)\n",
            "Requirement already satisfied: beautifulsoup4>=4.4.1 in /usr/local/lib/python3.7/dist-packages (from newspaper3k) (4.6.3)\n",
            "Requirement already satisfied: python-dateutil>=2.5.3 in /usr/local/lib/python3.7/dist-packages (from newspaper3k) (2.8.1)\n",
            "Collecting tldextract>=2.0.1\n",
            "\u001b[?25l  Downloading https://files.pythonhosted.org/packages/7e/62/b6acd3129c5615b9860e670df07fd55b76175b63e6b7f68282c7cad38e9e/tldextract-3.1.0-py2.py3-none-any.whl (87kB)\n",
            "\u001b[K     |████████████████████████████████| 92kB 6.1MB/s \n",
            "\u001b[?25hCollecting tinysegmenter==0.3\n",
            "  Downloading https://files.pythonhosted.org/packages/17/82/86982e4b6d16e4febc79c2a1d68ee3b707e8a020c5d2bc4af8052d0f136a/tinysegmenter-0.3.tar.gz\n",
            "Requirement already satisfied: six in /usr/local/lib/python3.7/dist-packages (from nltk>=3.2.1->newspaper3k) (1.15.0)\n",
            "Collecting sgmllib3k\n",
            "  Downloading https://files.pythonhosted.org/packages/9e/bd/3704a8c3e0942d711c1299ebf7b9091930adae6675d7c8f476a7ce48653c/sgmllib3k-1.0.0.tar.gz\n",
            "Requirement already satisfied: idna<3,>=2.5 in /usr/local/lib/python3.7/dist-packages (from requests>=2.10.0->newspaper3k) (2.10)\n",
            "Requirement already satisfied: certifi>=2017.4.17 in /usr/local/lib/python3.7/dist-packages (from requests>=2.10.0->newspaper3k) (2020.12.5)\n",
            "Requirement already satisfied: urllib3!=1.25.0,!=1.25.1,<1.26,>=1.21.1 in /usr/local/lib/python3.7/dist-packages (from requests>=2.10.0->newspaper3k) (1.24.3)\n",
            "Requirement already satisfied: chardet<4,>=3.0.2 in /usr/local/lib/python3.7/dist-packages (from requests>=2.10.0->newspaper3k) (3.0.4)\n",
            "Collecting requests-file>=1.4\n",
            "  Downloading https://files.pythonhosted.org/packages/77/86/cdb5e8eaed90796aa83a6d9f75cfbd37af553c47a291cd47bc410ef9bdb2/requests_file-1.5.1-py2.py3-none-any.whl\n",
            "Requirement already satisfied: filelock>=3.0.8 in /usr/local/lib/python3.7/dist-packages (from tldextract>=2.0.1->newspaper3k) (3.0.12)\n",
            "Building wheels for collected packages: jieba3k, feedfinder2, tinysegmenter, sgmllib3k\n",
            "  Building wheel for jieba3k (setup.py) ... \u001b[?25l\u001b[?25hdone\n",
            "  Created wheel for jieba3k: filename=jieba3k-0.35.1-cp37-none-any.whl size=7398406 sha256=ebb7dd461351e0cb4e57d629b297177a778b125db87c74ddf1c4d6b1343d32ac\n",
            "  Stored in directory: /root/.cache/pip/wheels/83/15/9c/a3f1f67e7f7181170ad37d32e503c35da20627c013f438ed34\n",
            "  Building wheel for feedfinder2 (setup.py) ... \u001b[?25l\u001b[?25hdone\n",
            "  Created wheel for feedfinder2: filename=feedfinder2-0.0.4-cp37-none-any.whl size=3358 sha256=00dcb5ad5f997dcf21509a09666aaa9419ccac17508b9a1c58dfb271a0fe2463\n",
            "  Stored in directory: /root/.cache/pip/wheels/de/03/ca/778e3a7a627e3d98836cc890e7cb40c7575424cfd3340f40ed\n",
            "  Building wheel for tinysegmenter (setup.py) ... \u001b[?25l\u001b[?25hdone\n",
            "  Created wheel for tinysegmenter: filename=tinysegmenter-0.3-cp37-none-any.whl size=13538 sha256=f4b169dc70310c953c39de0758c4bdf1f051a0bca92481daad5b338a4416d57d\n",
            "  Stored in directory: /root/.cache/pip/wheels/81/2b/43/a02ede72324dd40cdd7ca53aad718c7710628e91b8b0dc0f02\n",
            "  Building wheel for sgmllib3k (setup.py) ... \u001b[?25l\u001b[?25hdone\n",
            "  Created wheel for sgmllib3k: filename=sgmllib3k-1.0.0-cp37-none-any.whl size=6067 sha256=5aa639fc59991feadae7eb7576136a4740e01a07303a366963dbed5af476d590\n",
            "  Stored in directory: /root/.cache/pip/wheels/f1/80/5a/444ba08a550cdd241bd9baf8bae44be750efe370adb944506a\n",
            "Successfully built jieba3k feedfinder2 tinysegmenter sgmllib3k\n",
            "Installing collected packages: jieba3k, cssselect, feedfinder2, sgmllib3k, feedparser, requests-file, tldextract, tinysegmenter, newspaper3k\n",
            "Successfully installed cssselect-1.1.0 feedfinder2-0.0.4 feedparser-6.0.2 jieba3k-0.35.1 newspaper3k-0.2.8 requests-file-1.5.1 sgmllib3k-1.0.0 tinysegmenter-0.3 tldextract-3.1.0\n"
          ],
          "name": "stdout"
        }
      ]
    },
    {
      "cell_type": "code",
      "metadata": {
        "colab": {
          "base_uri": "https://localhost:8080/"
        },
        "id": "Hq-IY9MtDuXe",
        "outputId": "593b8357-5f3d-42c0-a10c-4bf70822956f"
      },
      "source": [
        "pip install textstat"
      ],
      "execution_count": null,
      "outputs": [
        {
          "output_type": "stream",
          "text": [
            "Collecting textstat\n",
            "\u001b[?25l  Downloading https://files.pythonhosted.org/packages/ca/b1/ab40a00b727a0d209402d1be6aa3f1bc75bd03678b59ace8507b08bf12f5/textstat-0.7.0-py3-none-any.whl (99kB)\n",
            "\u001b[K     |████████████████████████████████| 102kB 3.7MB/s \n",
            "\u001b[?25hCollecting pyphen\n",
            "\u001b[?25l  Downloading https://files.pythonhosted.org/packages/7c/5a/5bc036e01389bc6a6667a932bac3e388de6e7fa5777a6ff50e652f60ec79/Pyphen-0.10.0-py3-none-any.whl (1.9MB)\n",
            "\u001b[K     |████████████████████████████████| 1.9MB 9.2MB/s \n",
            "\u001b[?25hInstalling collected packages: pyphen, textstat\n",
            "Successfully installed pyphen-0.10.0 textstat-0.7.0\n"
          ],
          "name": "stdout"
        }
      ]
    },
    {
      "cell_type": "code",
      "metadata": {
        "colab": {
          "base_uri": "https://localhost:8080/"
        },
        "id": "sck4ZhdIxRA2",
        "outputId": "2d227bf1-cb04-428e-f949-ad7e9168f361"
      },
      "source": [
        "import nltk\n",
        "nltk.download('punkt')"
      ],
      "execution_count": null,
      "outputs": [
        {
          "output_type": "stream",
          "text": [
            "[nltk_data] Downloading package punkt to /root/nltk_data...\n",
            "[nltk_data]   Unzipping tokenizers/punkt.zip.\n"
          ],
          "name": "stdout"
        },
        {
          "output_type": "execute_result",
          "data": {
            "text/plain": [
              "True"
            ]
          },
          "metadata": {
            "tags": []
          },
          "execution_count": 6
        }
      ]
    },
    {
      "cell_type": "code",
      "metadata": {
        "colab": {
          "base_uri": "https://localhost:8080/"
        },
        "id": "OWpkpYUiEG3e",
        "outputId": "840d5c1c-da73-41f6-dd9d-08642dd4ba2f"
      },
      "source": [
        "import nltk\n",
        "nltk.download('vader_lexicon')"
      ],
      "execution_count": null,
      "outputs": [
        {
          "output_type": "stream",
          "text": [
            "[nltk_data] Downloading package vader_lexicon to /root/nltk_data...\n"
          ],
          "name": "stdout"
        },
        {
          "output_type": "execute_result",
          "data": {
            "text/plain": [
              "True"
            ]
          },
          "metadata": {
            "tags": []
          },
          "execution_count": 7
        }
      ]
    },
    {
      "cell_type": "markdown",
      "metadata": {
        "id": "9acTVqenn3zs"
      },
      "source": [
        "## **Scraping Yahoo news**"
      ]
    },
    {
      "cell_type": "code",
      "metadata": {
        "id": "CE9CRVKTxVaF"
      },
      "source": [
        "import re\n",
        "import csv\n",
        "from time import sleep\n",
        "from bs4 import BeautifulSoup\n",
        "import requests\n",
        "import sys\n",
        "from newspaper import Article\n",
        "import pandas as pd\n",
        "\n",
        "headers = {\n",
        "    'accept': '*/*',\n",
        "    'accept-encoding': 'gzip, deflate, br',\n",
        "    'accept-language': 'en-US,en;q=0.9',\n",
        "    'referer': 'https://www.google.com',\n",
        "    'user-agent': 'Mozilla/5.0 (Windows NT 10.0; Win64; x64) AppleWebKit/537.36 (KHTML, like Gecko) Chrome/85.0.4183.83 Safari/537.36 Edg/85.0.564.44'\n",
        "}\n",
        "\n",
        "def get_article(card):\n",
        "    \"\"\"Extract article information from the raw html\"\"\"\n",
        "    headline = card.find('h4', 's-title').text\n",
        "    source = card.find(\"span\", 's-source').text\n",
        "    posted = card.find('span', 's-time').text.replace('·', '').strip()\n",
        "    #description = card.find('p', 's-desc').text.strip()\n",
        "    raw_link = card.find('a').get('href')\n",
        "    unquoted_link = requests.utils.unquote(raw_link)\n",
        "    pattern = re.compile(r'RU=(.+)\\/RK')\n",
        "    clean_link = re.search(pattern, unquoted_link).group(1)\n",
        "    #Creating an instance of the article\n",
        "    parsed_article = Article(clean_link, language=\"en\")\n",
        "    #To download the article\n",
        "    try:\n",
        "      parsed_article.download()\n",
        "      #To parse the article\n",
        "      parsed_article.parse()\n",
        "      #To perform natural language processing ie..nlp\n",
        "      parsed_article.nlp()\n",
        "    except:\n",
        "      e = sys.exc_info()[0]\n",
        "    article = (headline, source, posted, clean_link, parsed_article.summary)\n",
        "    return article\n",
        "\n",
        "def get_the_news(search):\n",
        "    \"\"\"Run the main program\"\"\"\n",
        "    template = 'https://news.search.yahoo.com/search?p={}'\n",
        "    url = template.format(search)\n",
        "    articles = []\n",
        "    links = set()\n",
        "    \n",
        "    for i in range(3):\n",
        "        response = requests.get(url, headers=headers)\n",
        "        soup = BeautifulSoup(response.text, 'html.parser')\n",
        "        cards = soup.find_all('div', 'NewsArticle')\n",
        "        \n",
        "        # extract articles from page\n",
        "        for card in cards:\n",
        "            article = get_article(card)\n",
        "            link = article[-1]\n",
        "            if not link in links:\n",
        "                links.add(link)\n",
        "                articles.append(article)        \n",
        "                \n",
        "        try:\n",
        "            url = soup.find('a', 'next').get('href')\n",
        "            sleep(1)\n",
        "        except AttributeError:\n",
        "            continue\n",
        "            \n",
        "    # save article data\n",
        "    with open('results_streaming.csv', 'w', newline='', encoding='utf-8') as f:\n",
        "        writer = csv.writer(f)\n",
        "        writer.writerow(['Headline', 'Source', 'Posted', 'Link', 'Summary'])\n",
        "        writer.writerows(articles)\n",
        "        \n",
        "    return articles"
      ],
      "execution_count": null,
      "outputs": []
    },
    {
      "cell_type": "code",
      "metadata": {
        "colab": {
          "base_uri": "https://localhost:8080/",
          "height": 279
        },
        "id": "cUvCU8WjqBpI",
        "outputId": "8b3b49f4-7352-4bd0-b51c-f47adddc61ae"
      },
      "source": [
        "results_streaming_df = pd.read_csv('results_streaming.csv')\n",
        "results_streaming_df.head()"
      ],
      "execution_count": null,
      "outputs": [
        {
          "output_type": "execute_result",
          "data": {
            "text/html": [
              "<div>\n",
              "<style scoped>\n",
              "    .dataframe tbody tr th:only-of-type {\n",
              "        vertical-align: middle;\n",
              "    }\n",
              "\n",
              "    .dataframe tbody tr th {\n",
              "        vertical-align: top;\n",
              "    }\n",
              "\n",
              "    .dataframe thead th {\n",
              "        text-align: right;\n",
              "    }\n",
              "</style>\n",
              "<table border=\"1\" class=\"dataframe\">\n",
              "  <thead>\n",
              "    <tr style=\"text-align: right;\">\n",
              "      <th></th>\n",
              "      <th>Headline</th>\n",
              "      <th>Source</th>\n",
              "      <th>Posted</th>\n",
              "      <th>Link</th>\n",
              "      <th>Summary</th>\n",
              "    </tr>\n",
              "  </thead>\n",
              "  <tbody>\n",
              "    <tr>\n",
              "      <th>0</th>\n",
              "      <td>Latest reopening sign: The New York Stock Exch...</td>\n",
              "      <td>Axios via Yahoo News</td>\n",
              "      <td>4 hours ago</td>\n",
              "      <td>https://news.yahoo.com/latest-reopening-sign-y...</td>\n",
              "      <td>“Today is a milestone for New York state and a...</td>\n",
              "    </tr>\n",
              "    <tr>\n",
              "      <th>1</th>\n",
              "      <td>District baseball, softball tournaments: All t...</td>\n",
              "      <td>Idaho Statesman via Yahoo News</td>\n",
              "      <td>2 hours ago</td>\n",
              "      <td>https://news.yahoo.com/district-baseball-softb...</td>\n",
              "      <td>What he's saying: \"I think I was being extreme...</td>\n",
              "    </tr>\n",
              "    <tr>\n",
              "      <th>2</th>\n",
              "      <td>Tapering of bond purchases in focus as Bank of...</td>\n",
              "      <td>Yahoo Finance UK</td>\n",
              "      <td>2 hours ago</td>\n",
              "      <td>https://www.yahoo.com/finance/news/tapering-of...</td>\n",
              "      <td>Odds show a repeat of the 2014 referendum, whe...</td>\n",
              "    </tr>\n",
              "    <tr>\n",
              "      <th>3</th>\n",
              "      <td>The Latest: PGA'S Todd tests positive, out of ...</td>\n",
              "      <td>San Francisco Chronicle</td>\n",
              "      <td>7 hours ago</td>\n",
              "      <td>https://www.sfgate.com/sports/article/The-Late...</td>\n",
              "      <td>The Latest on the effects of the coronavirus o...</td>\n",
              "    </tr>\n",
              "    <tr>\n",
              "      <th>4</th>\n",
              "      <td>The latest hockey player to enter the realm of...</td>\n",
              "      <td>ESPN</td>\n",
              "      <td>14 hours ago</td>\n",
              "      <td>https://www.espn.com/nhl/story/_/id/31383777/h...</td>\n",
              "      <td>Hall of Famer Bryan Trottier reflects on his e...</td>\n",
              "    </tr>\n",
              "  </tbody>\n",
              "</table>\n",
              "</div>"
            ],
            "text/plain": [
              "                                            Headline  ...                                            Summary\n",
              "0  Latest reopening sign: The New York Stock Exch...  ...  “Today is a milestone for New York state and a...\n",
              "1  District baseball, softball tournaments: All t...  ...  What he's saying: \"I think I was being extreme...\n",
              "2  Tapering of bond purchases in focus as Bank of...  ...  Odds show a repeat of the 2014 referendum, whe...\n",
              "3  The Latest: PGA'S Todd tests positive, out of ...  ...  The Latest on the effects of the coronavirus o...\n",
              "4  The latest hockey player to enter the realm of...  ...  Hall of Famer Bryan Trottier reflects on his e...\n",
              "\n",
              "[5 rows x 5 columns]"
            ]
          },
          "metadata": {
            "tags": []
          },
          "execution_count": 9
        }
      ]
    },
    {
      "cell_type": "markdown",
      "metadata": {
        "id": "43RJVZiVgXaz"
      },
      "source": [
        "# Yellow-Factor"
      ]
    },
    {
      "cell_type": "markdown",
      "metadata": {
        "id": "xtD6WxTR8TMy"
      },
      "source": [
        "## **Creating latent variables for calculating yellowness factor**\n",
        "\n",
        "* **flesch_reading_ease** : tells us how convoluted the sentence is. The more confusing the sentence is, the more is its yellowness. We divide the value by 10 and add it towards the yellowness score.\n",
        "* **is_q** : Tells us whether the text contains a question. More the questions, more the yellowness. This features gets a weight of 5.\n",
        "* **is_exclam** : Tells us whether the text contains an exclamation. This features gets a weight of 10.\n",
        "* **is_money** : Tells us whether the text has money relation information. This features gets a weight of 5.\n",
        "* **starts_num** : Tells us whether if the text start with a number. This features gets a weight of 5.\n",
        "* **All_Caps** : Tells us whether if the text contains all uppercase words. This features gets a weight of 20, since it depicts sensationalism.\n",
        "* **Sentiment_Score** : A lot of emotion is captured in sensationalized text. We take the magnitude (postive and negative) of this score and add it to yellowness score.\n"
      ]
    },
    {
      "cell_type": "code",
      "metadata": {
        "id": "YYBVjDXJ8UFU"
      },
      "source": [
        "#function to find if string contains a question and if so, create new feature with a 1 for yes or 0 for no\n",
        "question_words = ['who','what','where','why','when','whose','whom','would','will','how','which','should','could']\n",
        "\n",
        "def is_question(text):\n",
        "    if \"?\" in text or text.startswith(('who','what','where','why','when','whose','whom','would','will','how','which','should','could','did','do')):\n",
        "        return 1\n",
        "    else: \n",
        "        return 0"
      ],
      "execution_count": null,
      "outputs": []
    },
    {
      "cell_type": "code",
      "metadata": {
        "id": "85daJx0E8-Hg"
      },
      "source": [
        "#create function to find if headline contains '!' and create new feature with 1 for yes and 0 for no\n",
        "def is_exclamation(headline):\n",
        "    if \"!\" in headline: \n",
        "        return 1\n",
        "    else: \n",
        "        return 0"
      ],
      "execution_count": null,
      "outputs": []
    },
    {
      "cell_type": "code",
      "metadata": {
        "id": "kY0hI5T09E_1"
      },
      "source": [
        "#create function to find if headline contains '$' and create new feature with 1 for yes and 0 for no\n",
        "def is_money_related(headline):\n",
        "    if \"$\" in headline: \n",
        "        return 1\n",
        "    else: \n",
        "        return 0"
      ],
      "execution_count": null,
      "outputs": []
    },
    {
      "cell_type": "code",
      "metadata": {
        "id": "5OY9eCsN9Kz2"
      },
      "source": [
        "#create function to find if headline starts with a digit and create new feature with 1 for yes and 0 for no\n",
        "def starts_with_num(text):\n",
        "    if text.startswith(('1','2','3','4','5','6','7','8','9')): \n",
        "        return 1\n",
        "    else: \n",
        "        return 0"
      ],
      "execution_count": null,
      "outputs": []
    },
    {
      "cell_type": "code",
      "metadata": {
        "id": "U75E1ziq8Y4I"
      },
      "source": [
        "from nltk.sentiment.vader import SentimentIntensityAnalyzer as SIA\n",
        "\n",
        "def yellowness_preprocessing(yellow_preprocess_df):\n",
        "  \n",
        "  print(\"Starting preprocessing for yellowness factor on our text..\")\n",
        "  yellow_preprocess_df.Summary = yellow_preprocess_df.Summary.apply(str)\n",
        "\n",
        "  ##Creating a feature to score the text with a readability factor\n",
        "  yellow_preprocess_df['flesch'] = yellow_preprocess_df['Summary'].apply(textstat.flesch_reading_ease)\n",
        "  ##Since the flesch reading score is now inversely proportional to the yellowness factor\n",
        "  ##we substract its value from the highest - 121.22\n",
        "  yellow_preprocess_df['flesch'] = 121.22 - yellow_preprocess_df['flesch'] \n",
        "\n",
        "  #function to find if string contains a question and if so, create new feature with a 1 for yes or 0 for no\n",
        "  yellow_preprocess_df['text_lower']=yellow_preprocess_df['Summary'].apply(lambda x: x.lower())\n",
        "  yellow_preprocess_df['is_q']=yellow_preprocess_df['text_lower'].apply(is_question)\n",
        "  yellow_preprocess_df = yellow_preprocess_df.drop(columns='text_lower')\n",
        "\n",
        "  #create function to find if headline contains '!' and create new feature with 1 for yes and 0 for no\n",
        "  yellow_preprocess_df['is_exclam']=yellow_preprocess_df['Summary'].apply(is_exclamation)\n",
        "\n",
        "  #create function to find if headline contains '$' and create new feature with 1 for yes and 0 for no\n",
        "  yellow_preprocess_df['is_money']=yellow_preprocess_df['Summary'].apply(is_money_related)\n",
        "\n",
        "  #create function to find if headline starts with a digit and create new feature with 1 for yes and 0 for no\n",
        "  yellow_preprocess_df['starts_num']=yellow_preprocess_df['Summary'].apply(starts_with_num)\n",
        "\n",
        "  ##Calculating the number of words in each Summary \n",
        "  yellow_preprocess_df['num_words'] = yellow_preprocess_df['Summary'].apply(lambda x: len(x.split()))\n",
        "\n",
        "  ##Creating a new feature to store the number of ALL CAPS words in each Summary\n",
        "  yellow_preprocess_df['All_Caps'] = yellow_preprocess_df['Summary'].apply(lambda x: sum(map(str.isupper, x.split())))\n",
        "\n",
        "  ##Looping to pass every headline into the analyser, a sentiment score is assigned to each headline.\n",
        "  sia = SIA()\n",
        "  results = []\n",
        "  for headline in yellow_preprocess_df['Summary']:\n",
        "      pol_score = sia.polarity_scores(headline)\n",
        "      pol_score['headline'] = headline\n",
        "      results.append(pol_score)\n",
        "  ##Concatenating this list to our original dataframe, only interested in the values of the ‘compound’ variable.\n",
        "  yellow_preprocess_df['Sentiment_Score'] = pd.DataFrame(results)['compound']                                \n",
        "\n",
        "  print('Yellowness factor preprocessing done!!')\n",
        "  \n",
        "  ##Convert preprocessed df to csv\n",
        "  yellow_preprocess_df.to_csv('yellow_preprocess_df.csv')\n"
      ],
      "execution_count": null,
      "outputs": []
    },
    {
      "cell_type": "markdown",
      "metadata": {
        "id": "EezIj5toawSM"
      },
      "source": [
        "## **Loading the model for yellowness**"
      ]
    },
    {
      "cell_type": "code",
      "metadata": {
        "id": "YRxZ7GFe-62Z"
      },
      "source": [
        "def invoke_modeling_yellowness():\n",
        "  yellow_preprocess_df = pd.read_csv('yellow_preprocess_df.csv')\n",
        "  X_test = yellow_preprocess_df[['flesch','is_q','is_exclam','is_money','starts_num','All_Caps','num_words','Sentiment_Score']]\n",
        "  # Y_test = yellow_preprocess_df[['yellow_factor']]\n",
        "  yellowness_preds = []\n",
        "  yellowness_model = pickle.load( open( \"finalized_model_1.sav\", \"rb\" ) )\n",
        "  yellowness_preds = yellowness_model.predict(X_test)\n",
        "  print(yellowness_preds)\n",
        "  yellow_preprocess_df['yellow_factor'] = yellowness_preds\n",
        "  yellow_preprocess_df.to_csv('yellow_preprocess_df_with_preds.csv')\n",
        "\n",
        "  # result = yellowness_model.score(X_test, Y_test)\n",
        "  # print(result)\n",
        "  \n",
        "  print(\"loading done\")"
      ],
      "execution_count": null,
      "outputs": []
    },
    {
      "cell_type": "markdown",
      "metadata": {
        "id": "V-4lH9AOgcqA"
      },
      "source": [
        "# Deception-Factor"
      ]
    },
    {
      "cell_type": "markdown",
      "metadata": {
        "id": "-idO_WpjC1ju"
      },
      "source": [
        "## **Creating latent variables for Deception Factor**\n",
        "* avg_sentence_length: tells us the average number of words in each sentence of the text. \n",
        "* avg_syllables: tells us the average number of syllables in each word of the text.\n",
        "* Sentiment_Score: We take the magnitude (postive and negative) of this score and add it to deception score.\n",
        "* flesch_kincaid_grade: It shows the required education to be able to understand a text. Text intended for readership by the general public should aim for a grade level of around 8, schooling age 13 to 14\n",
        "* gunning_fog: The principle behind the Gunning Fog Index formula is that short sentences written in plain English receive a better score than longer sentences written in complex language\n"
      ]
    },
    {
      "cell_type": "code",
      "metadata": {
        "colab": {
          "base_uri": "https://localhost:8080/"
        },
        "id": "yxsRTyPxXlcO",
        "outputId": "6766c80d-b7f7-4328-b419-7ea6be69ba9b"
      },
      "source": [
        "%cd /content/gdrive/My Drive/Pickle_Models"
      ],
      "execution_count": null,
      "outputs": [
        {
          "output_type": "stream",
          "text": [
            "/content/gdrive/My Drive/Pickle_Models\n"
          ],
          "name": "stdout"
        }
      ]
    },
    {
      "cell_type": "code",
      "metadata": {
        "id": "KTzK6JFeC0R8"
      },
      "source": [
        "from nltk.sentiment.vader import SentimentIntensityAnalyzer as SIA\n",
        "\n",
        "def deception_preprocessing(preprocess_df):\n",
        "  \n",
        "  print(\"Starting preprocessing for deception factor on our text..\")\n",
        "  preprocess_df.Summary = preprocess_df.Summary.apply(str)\n",
        "\n",
        "  ##Creating a feature to count the number of words\n",
        "  preprocess_df['lex_count'] = preprocess_df['Summary'].apply(textstat.lexicon_count)\n",
        "\n",
        "  ##Creating a feature to count the number of difficult words\n",
        "  # preprocess_df['difficult_count'] = preprocess_df['Summary'].apply(textstat.difficult_words)\n",
        "\n",
        "  ##Creating a feature to count the number of sentences\n",
        "  preprocess_df['num_sentences'] = preprocess_df['Summary'].apply(textstat.sentence_count)\n",
        "\n",
        "  ##Creating a feature to count the number of syllable\n",
        "  preprocess_df['num_syllables'] = preprocess_df['Summary'].apply(textstat.syllable_count)\n",
        "\n",
        "  ##Creating a feature for flesch_kincaid_grade\n",
        "  preprocess_df['flesch_kincaid_grade'] = preprocess_df['Summary'].apply(textstat.flesch_kincaid_grade)\n",
        "\n",
        "  ##The Fog Scale (Gunning FOG Formula)\n",
        "  preprocess_df['gunning_fog'] = preprocess_df['Summary'].apply(textstat.gunning_fog)\n",
        "\n",
        "  ##Creating a feature for avg number of syllables per word - \n",
        "  preprocess_df['avg_syllables'] = preprocess_df['num_syllables'] / preprocess_df['lex_count']\n",
        "\n",
        "  ## Average sentence length\n",
        "  preprocess_df['avg_sentence_length'] = preprocess_df['lex_count'] / preprocess_df['num_sentences']\n",
        "\n",
        "  ##Looping to pass every headline into the analyser, a sentiment score is assigned to each headline.\n",
        "  sia = SIA()\n",
        "  results = []\n",
        "  for headline in preprocess_df['Summary']:\n",
        "      pol_score = sia.polarity_scores(headline)\n",
        "      pol_score['headline'] = headline\n",
        "      results.append(pol_score)\n",
        "\n",
        "  ##Concatenating this list to our original dataframe, only interested in the values of the ‘compound’ variable.\n",
        "  preprocess_df['Sentiment_Score'] = pd.DataFrame(results)['compound']\n",
        "\n",
        "  print('Preprocessing done!!')\n",
        "  print(preprocess_df)\n",
        "\n",
        "  preprocess_df.to_csv('deception_preprocess_df.csv')\n",
        "  "
      ],
      "execution_count": null,
      "outputs": []
    },
    {
      "cell_type": "markdown",
      "metadata": {
        "id": "X_Bh5k5jbEjb"
      },
      "source": [
        "## **Loading the model for deception score**"
      ]
    },
    {
      "cell_type": "code",
      "metadata": {
        "id": "9tp1jaLcZGYX"
      },
      "source": [
        "def invoke_modeling():\n",
        "  deception_preprocess_df = pd.read_csv('deception_preprocess_df.csv')\n",
        "  X_test = deception_preprocess_df[['avg_sentence_length','avg_syllables','flesch_kincaid_grade','gunning_fog','Sentiment_Score']]\n",
        "  # Y_test = deception_preprocess_df[['deceptiveness_factor']]\n",
        "  deception_preds = []\n",
        "  deception_model = pickle.load( open( \"deception_model.sav\", \"rb\" ) )\n",
        "  deception_preds = deception_model.predict(X_test)\n",
        "  print(deception_preds)\n",
        "  deception_preprocess_df['deceptiveness_factor'] = deception_preds\n",
        "  print(deception_preprocess_df)\n",
        "  deception_preprocess_df.to_csv('deception_preprocess_df_with_preds.csv')\n",
        "  # result = deception_model.score(X_test, Y_test)\n",
        "  # print(result)\n",
        "  print(\"loading done\")"
      ],
      "execution_count": null,
      "outputs": []
    },
    {
      "cell_type": "markdown",
      "metadata": {
        "id": "VEJcVV1nIE4j"
      },
      "source": [
        "# Hyperpartisan"
      ]
    },
    {
      "cell_type": "markdown",
      "metadata": {
        "id": "AkiPGglnINa5"
      },
      "source": [
        "## **Data preparation**"
      ]
    },
    {
      "cell_type": "code",
      "metadata": {
        "id": "UWi1hkE3NLpj"
      },
      "source": [
        "import pandas as pd\n",
        "import numpy as np\n",
        "from sklearn.model_selection import StratifiedShuffleSplit\n",
        "from nltk.corpus import stopwords"
      ],
      "execution_count": null,
      "outputs": []
    },
    {
      "cell_type": "code",
      "metadata": {
        "colab": {
          "base_uri": "https://localhost:8080/"
        },
        "id": "XYQbiNeUNLnC",
        "outputId": "2682b02f-a508-4e42-e37a-18617747101f"
      },
      "source": [
        "import nltk\n",
        "nltk.download('punkt')\n",
        "nltk.download('stopwords')"
      ],
      "execution_count": null,
      "outputs": [
        {
          "output_type": "stream",
          "text": [
            "[nltk_data] Downloading package punkt to /root/nltk_data...\n",
            "[nltk_data]   Package punkt is already up-to-date!\n",
            "[nltk_data] Downloading package stopwords to /root/nltk_data...\n",
            "[nltk_data]   Unzipping corpora/stopwords.zip.\n"
          ],
          "name": "stdout"
        },
        {
          "output_type": "execute_result",
          "data": {
            "text/plain": [
              "True"
            ]
          },
          "metadata": {
            "tags": []
          },
          "execution_count": 20
        }
      ]
    },
    {
      "cell_type": "code",
      "metadata": {
        "id": "QMsVTCVQNLkq"
      },
      "source": [
        "def remove_html_tags(text):\n",
        "    \"\"\"Remove html tags from a string\"\"\"\n",
        "    import re\n",
        "    clean = re.compile('<.*?>')\n",
        "    return re.sub(clean, '', text)\n",
        "\n",
        "def read_glove(path, dim):\n",
        "    '''\n",
        "    read the glove vectors from path with dimension dim\n",
        "    '''\n",
        "    df = pd.read_csv(path + 'glove.6B.' + str(dim) + 'd.txt', sep=\" \", quoting=3, header=None, index_col=0)\n",
        "    glove = {key: val.values for key, val in df.T.items()}\n",
        "    return glove\n",
        "\n",
        "def gloveVectorize(glove, text):\n",
        "    '''\n",
        "    Find the pretrained glove vectors of the first 1000 words in the articles.\n",
        "    The final vector is the average of the vectors\n",
        "    '''\n",
        "    dim = len(glove[\"the\"])\n",
        "    X = np.zeros( (len(text), dim) )\n",
        "    for text_id, t in enumerate(text):\n",
        "        tmp = np.zeros((1, dim))\n",
        "        \n",
        "        # tokenize and remove stopwords\n",
        "        words = customTokenize(t, rm_stopwords=True)\n",
        "        words = [w for w in words if w in glove.keys()]\n",
        "        for word in words:\n",
        "            tmp[:] += glove[word]\n",
        "        X[text_id, :] = tmp/len(words)\n",
        "    return X\n",
        "\n",
        "def customTokenize(text, rm_stopwords=False):\n",
        "    '''\n",
        "    lower, strip numbers and punctuation, remove stop words\n",
        "    '''\n",
        "    tokens = nltk.word_tokenize(text)\n",
        "    tokens = [w.lower() for w in tokens]\n",
        "    words = [word for word in tokens if word.isalpha()]\n",
        "    if rm_stopwords:\n",
        "        stop_words = set(stopwords.words('english'))\n",
        "        words = [w for w in words if not w in stop_words]\n",
        "    return words\n",
        "  "
      ],
      "execution_count": null,
      "outputs": []
    },
    {
      "cell_type": "code",
      "metadata": {
        "id": "4GPgRikmNLOn"
      },
      "source": [
        "def hyperpartisan_preprocessing(hyperpartisan_df):\n",
        "  hyperpartisan_df = hyperpartisan_df.dropna()\n",
        "  print(\"Starting preprocessing for detecting hyperpartisan\")\n",
        "  ##Convert to array\n",
        "  hyperpartisan_df.Summary = hyperpartisan_df.Summary.apply(str)\n",
        "  ##Remove html tags\n",
        "  hyperpartisan_df['Summary'] = hyperpartisan_df['Summary'].apply(remove_html_tags)\n",
        "  ##Convert to array\n",
        "  text_array = hyperpartisan_df['Summary'].to_numpy()\n",
        "  # set path for data\n",
        "  pretrained_wv_path = \"Glove/\"\n",
        "  # read in data and glove vectors\n",
        "  glove = read_glove(pretrained_wv_path, 50)\n",
        "  ##Vectorizing our text\n",
        "  glove_texts = gloveVectorize(glove, text_array)\n",
        "  test_x = glove_texts\n",
        "\n",
        "  ##Modeling\n",
        "  hyperpartisan_model = pickle.load( open( \"SVM_Glove.sav\", \"rb\" ) )\n",
        "  ##Making predictions\n",
        "  hyperpartisan_preds = hyperpartisan_model.predict(test_x)\n",
        "  print(hyperpartisan_preds)\n",
        "\n",
        "  hyperpartisan_df['hyperpartisan'] = hyperpartisan_preds\n",
        "  hyperpartisan_df.to_csv('hyperpartisan_df.csv')"
      ],
      "execution_count": null,
      "outputs": []
    },
    {
      "cell_type": "markdown",
      "metadata": {
        "id": "cemWK6GfH1Mw"
      },
      "source": [
        "# **Predicting deception score and yellow score on streaming data**"
      ]
    },
    {
      "cell_type": "markdown",
      "metadata": {
        "id": "kwe6s85agZSg"
      },
      "source": [
        "## **Pipeline for yellowness and deception factor**"
      ]
    },
    {
      "cell_type": "code",
      "metadata": {
        "colab": {
          "base_uri": "https://localhost:8080/",
          "height": 1000,
          "referenced_widgets": [
            "bbdd711d51f44636b829e2491ce31e35",
            "24cc5daecedd490499f23db956f5ad4a",
            "d9b6953a959542eeb9bf7cf3e3819508",
            "54c6992048db4bb9979ca0737f057eca",
            "ada51e8035154ea0bf6e4ddd903fa102"
          ]
        },
        "id": "SxO9i7xwwGGL",
        "outputId": "6b2674ae-a367-4d5b-d2c0-6ffa330764d2"
      },
      "source": [
        "import ipywidgets as widgets\n",
        "from IPython.display import display, clear_output\n",
        "import functools\n",
        "import textstat\n",
        "import pickle\n",
        "from sklearn.pipeline import Pipeline\n",
        "\n",
        "button = widgets.Button(description=\"Get Feed\")\n",
        "output = widgets.Output()\n",
        "\n",
        "def pipeline_deception(streaming_df):\n",
        "  model = Pipeline([\n",
        "    ('preprocessing', deception_preprocessing(streaming_df)),\n",
        "    ('mlp', invoke_modeling()),\n",
        "  ])\n",
        "\n",
        "def pipeline_yellowness(streaming_df):\n",
        "  model = Pipeline([\n",
        "    ('yellowness_preprocessing', yellowness_preprocessing(streaming_df)),\n",
        "    ('mlp', invoke_modeling_yellowness())\n",
        "  ])\n",
        "\n",
        "##On clicking the button\n",
        "def on_button_clicked(b):\n",
        "\n",
        "  print(\"Fetching data.. please wait!\")\n",
        "  news_list = [\"latest\"]\n",
        "  for news in news_list:\n",
        "      ##Invoke function 'get_the_news'\n",
        "      articles_final = get_the_news(news)\n",
        "  print('fetching data done!!')\n",
        "  ##Reading the above created csv with latest news\n",
        "  streaming_df = pd.read_csv('results_streaming.csv')\n",
        "  pipeline_deception(streaming_df)\n",
        "  pipeline_yellowness(streaming_df)\n",
        "  # streaming_df = streaming_df.dropna()\n",
        "  # hyperpartisan_preprocessing(streaming_df)\n",
        "\n",
        "button.on_click(on_button_clicked)\n",
        "display(button, output)"
      ],
      "execution_count": null,
      "outputs": [
        {
          "output_type": "display_data",
          "data": {
            "application/vnd.jupyter.widget-view+json": {
              "model_id": "bbdd711d51f44636b829e2491ce31e35",
              "version_minor": 0,
              "version_major": 2
            },
            "text/plain": [
              "Button(description='Get Feed', style=ButtonStyle())"
            ]
          },
          "metadata": {
            "tags": []
          }
        },
        {
          "output_type": "display_data",
          "data": {
            "application/vnd.jupyter.widget-view+json": {
              "model_id": "54c6992048db4bb9979ca0737f057eca",
              "version_minor": 0,
              "version_major": 2
            },
            "text/plain": [
              "Output()"
            ]
          },
          "metadata": {
            "tags": []
          }
        },
        {
          "output_type": "stream",
          "text": [
            "Fetching data.. please wait!\n",
            "fetching data done!!\n",
            "Starting preprocessing for deception factor on our text..\n",
            "Preprocessing done!!\n",
            "                                             Headline  ... Sentiment_Score\n",
            "0   Latest reopening sign: The New York Stock Exch...  ...          0.4767\n",
            "1   The latest numbers on COVID-19 in Canada for T...  ...          0.0000\n",
            "2   Latest hearing in High Court battle between Me...  ...          0.8625\n",
            "3   District baseball, softball tournaments: All t...  ...         -0.3182\n",
            "4   The Latest: PGA'S Todd tests positive, out of ...  ...          0.8779\n",
            "5   Tapering of bond purchases in focus as Bank of...  ...          0.7650\n",
            "6   The latest hockey player to enter the realm of...  ...          0.7650\n",
            "7   Morrison's latest announcement has disgusted s...  ...          0.3612\n",
            "8   Chris Weidman shares latest health update afte...  ...         -0.8070\n",
            "9   The Latest: Detroit going door-to-door to enco...  ...          0.0000\n",
            "10  The Latest: Belmont Stakes to have at least 11...  ...          0.9325\n",
            "11  The Latest: Kuwait to bar unvaccinated from tr...  ...         -0.1531\n",
            "12  Coronavirus in Georgia | Latest data for May 4...  ...          0.8957\n",
            "13  Elden Ring Latest Leaked Footage Is Not Real, ...  ...         -0.6705\n",
            "14               ESPN ranks OU No. 1 in latest Top 25  ...          0.6486\n",
            "15  Bruins, Oilers Clinch Postseason Berths; Lates...  ...          0.9186\n",
            "16  The Latest: Detroit going door-to-door to enco...  ...         -0.8271\n",
            "17  2021 AAA Car Guide Offers Inside Track for the...  ...          0.9779\n",
            "18  The Latest: Kuwait to bar unvaccinated from tr...  ...         -0.1280\n",
            "19  Latest Transforming Business poll shows Hong K...  ...          0.8834\n",
            "20  A look at the weight changes on UM’s latest of...  ...          0.9366\n",
            "21  The Latest: NBA’s Hawks to increase attendance...  ...          0.2500\n",
            "\n",
            "[22 rows x 13 columns]\n",
            "['Deceptive' 'Deceptive' 'Deceptive' 'Deceptive' 'Deceptive' 'Deceptive'\n",
            " 'Deceptive' 'Deceptive' 'Deceptive' 'Not Deceptive' 'Deceptive'\n",
            " 'Deceptive' 'Deceptive' 'Deceptive' 'Deceptive' 'Deceptive' 'Deceptive'\n",
            " 'Deceptive' 'Deceptive' 'Deceptive' 'Deceptive' 'Deceptive']\n",
            "    Unnamed: 0  ... deceptiveness_factor\n",
            "0            0  ...            Deceptive\n",
            "1            1  ...            Deceptive\n",
            "2            2  ...            Deceptive\n",
            "3            3  ...            Deceptive\n",
            "4            4  ...            Deceptive\n",
            "5            5  ...            Deceptive\n",
            "6            6  ...            Deceptive\n",
            "7            7  ...            Deceptive\n",
            "8            8  ...            Deceptive\n",
            "9            9  ...        Not Deceptive\n",
            "10          10  ...            Deceptive\n",
            "11          11  ...            Deceptive\n",
            "12          12  ...            Deceptive\n",
            "13          13  ...            Deceptive\n",
            "14          14  ...            Deceptive\n",
            "15          15  ...            Deceptive\n",
            "16          16  ...            Deceptive\n",
            "17          17  ...            Deceptive\n",
            "18          18  ...            Deceptive\n",
            "19          19  ...            Deceptive\n",
            "20          20  ...            Deceptive\n",
            "21          21  ...            Deceptive\n",
            "\n",
            "[22 rows x 15 columns]\n",
            "loading done\n",
            "Starting preprocessing for yellowness factor on our text..\n",
            "Yellowness factor preprocessing done!!\n",
            "['Least yellow' 'Least yellow' 'Least yellow' 'Least yellow'\n",
            " 'Least yellow' 'Least yellow' 'Least yellow' 'Moderately Yellow'\n",
            " 'Least yellow' 'Moderately Yellow' 'Least yellow' 'Least yellow'\n",
            " 'Least yellow' 'Least yellow' 'Highly yellow' 'Least yellow'\n",
            " 'Highly yellow' 'Highly yellow' 'Highly yellow' 'Least yellow'\n",
            " 'Least yellow' 'Least yellow']\n",
            "loading done\n"
          ],
          "name": "stdout"
        }
      ]
    },
    {
      "cell_type": "code",
      "metadata": {
        "colab": {
          "base_uri": "https://localhost:8080/"
        },
        "id": "KHZyHBdWX1Yz",
        "outputId": "313237ed-6ec9-43e5-e717-88d264acb891"
      },
      "source": [
        "streaming_df = pd.read_csv('results_streaming.csv')\n",
        "streaming_df.shape\n",
        "hyperpartisan_preprocessing(streaming_df)"
      ],
      "execution_count": null,
      "outputs": [
        {
          "output_type": "stream",
          "text": [
            "Starting preprocessing for detecting hyperpartisan\n",
            "[False False False False False False False False False False False False\n",
            " False False False False False False False False False]\n"
          ],
          "name": "stdout"
        }
      ]
    },
    {
      "cell_type": "markdown",
      "metadata": {
        "id": "7JzDhESIgsFG"
      },
      "source": [
        "# Ensembling"
      ]
    },
    {
      "cell_type": "markdown",
      "metadata": {
        "id": "gXNhFHnvr1KI"
      },
      "source": [
        "## **method: polynomial**"
      ]
    },
    {
      "cell_type": "code",
      "metadata": {
        "id": "w9BZbUQ1ZARv"
      },
      "source": [
        "deception_df = pd.read_csv('deception_preprocess_df_with_preds.csv')\n",
        "yellow_df = pd.read_csv('yellow_preprocess_df_with_preds.csv')\n",
        "deception_df = deception_df.drop(columns=['Unnamed: 0', 'Unnamed: 0.1'], axis = 1)\n",
        "yellow_df = yellow_df.drop(columns=['Unnamed: 0', 'Unnamed: 0.1'], axis = 1)\n",
        "hyperpartisan_df = pd.read_csv('hyperpartisan_df.csv')\n",
        "hyperpartisan_df = hyperpartisan_df.drop(columns=['Unnamed: 0'], axis = 1)"
      ],
      "execution_count": null,
      "outputs": []
    },
    {
      "cell_type": "code",
      "metadata": {
        "colab": {
          "base_uri": "https://localhost:8080/"
        },
        "id": "QObDX84jUPVY",
        "outputId": "5b6c30da-fca3-40de-c6c0-7ac880234b11"
      },
      "source": [
        "hyperpartisan_df.shape"
      ],
      "execution_count": null,
      "outputs": [
        {
          "output_type": "execute_result",
          "data": {
            "text/plain": [
              "(7, 6)"
            ]
          },
          "metadata": {
            "tags": []
          },
          "execution_count": 85
        }
      ]
    },
    {
      "cell_type": "code",
      "metadata": {
        "colab": {
          "base_uri": "https://localhost:8080/"
        },
        "id": "IPIoJHMDU1G0",
        "outputId": "4b3b90ac-a7fd-4168-fd21-cea5a8eac9b3"
      },
      "source": [
        "yellow_df.shape"
      ],
      "execution_count": null,
      "outputs": [
        {
          "output_type": "execute_result",
          "data": {
            "text/plain": [
              "(8, 21)"
            ]
          },
          "metadata": {
            "tags": []
          },
          "execution_count": 86
        }
      ]
    },
    {
      "cell_type": "code",
      "metadata": {
        "colab": {
          "base_uri": "https://localhost:8080/"
        },
        "id": "OWhwmOSEU3Lj",
        "outputId": "b9464e51-2dcb-4b39-dd79-445d011b45d2"
      },
      "source": [
        "deception_df.shape"
      ],
      "execution_count": null,
      "outputs": [
        {
          "output_type": "execute_result",
          "data": {
            "text/plain": [
              "(8, 14)"
            ]
          },
          "metadata": {
            "tags": []
          },
          "execution_count": 87
        }
      ]
    },
    {
      "cell_type": "code",
      "metadata": {
        "id": "lXX2pNnJdtzF"
      },
      "source": [
        "# ##Creating a df for prediction\n",
        "# ensemble_df = deception_df[['Headline', 'Source','Posted','Link','Summary','deceptiveness_factor']]\n",
        "# ensemble_df['yellow_factor'] = yellow_df['yellow_factor']"
      ],
      "execution_count": null,
      "outputs": []
    },
    {
      "cell_type": "code",
      "metadata": {
        "id": "Q4I1blRrsnoM"
      },
      "source": [
        "##Creating a df with latent manifold for visualization purposes\n",
        "ensemble_df_detailed = pd.merge(deception_df, yellow_df,  on = ['Posted','Link','Summary','Headline','Source','Sentiment_Score'])"
      ],
      "execution_count": null,
      "outputs": []
    },
    {
      "cell_type": "code",
      "metadata": {
        "id": "UabCdIH7TLKL"
      },
      "source": [
        "ensemble_df_detailed = pd.merge(hyperpartisan_df, ensemble_df_detailed, on = ['Headline'])"
      ],
      "execution_count": null,
      "outputs": []
    },
    {
      "cell_type": "code",
      "metadata": {
        "colab": {
          "base_uri": "https://localhost:8080/"
        },
        "id": "8JG0wrj6UZrm",
        "outputId": "a7a693ab-a62d-40a0-f1ca-66b079988dfc"
      },
      "source": [
        "ensemble_df_detailed.shape"
      ],
      "execution_count": null,
      "outputs": [
        {
          "output_type": "execute_result",
          "data": {
            "text/plain": [
              "(7, 34)"
            ]
          },
          "metadata": {
            "tags": []
          },
          "execution_count": 91
        }
      ]
    },
    {
      "cell_type": "code",
      "metadata": {
        "id": "LNo1QnpAkngP"
      },
      "source": [
        "ensemble_df_detailed['deceptiveness_factor'].replace(\n",
        "    {\n",
        "        'Not Deceptive': 0,\n",
        "        'Deceptive': 1\n",
        "    }, inplace = True\n",
        ")"
      ],
      "execution_count": null,
      "outputs": []
    },
    {
      "cell_type": "code",
      "metadata": {
        "id": "N36I3gzplEbD"
      },
      "source": [
        "ensemble_df_detailed['yellow_factor'].replace(\n",
        "    {\n",
        "        'Least yellow': 0,\n",
        "        'Moderately Yellow': 1,\n",
        "        'Highly yellow': 2\n",
        "    }, inplace = True\n",
        ")"
      ],
      "execution_count": null,
      "outputs": []
    },
    {
      "cell_type": "code",
      "metadata": {
        "colab": {
          "base_uri": "https://localhost:8080/",
          "height": 551
        },
        "id": "UGoMxKJuTi92",
        "outputId": "67eaa938-b612-4df0-a7ef-ec106648488e"
      },
      "source": [
        "ensemble_df_detailed.head()"
      ],
      "execution_count": null,
      "outputs": [
        {
          "output_type": "execute_result",
          "data": {
            "text/html": [
              "<div>\n",
              "<style scoped>\n",
              "    .dataframe tbody tr th:only-of-type {\n",
              "        vertical-align: middle;\n",
              "    }\n",
              "\n",
              "    .dataframe tbody tr th {\n",
              "        vertical-align: top;\n",
              "    }\n",
              "\n",
              "    .dataframe thead th {\n",
              "        text-align: right;\n",
              "    }\n",
              "</style>\n",
              "<table border=\"1\" class=\"dataframe\">\n",
              "  <thead>\n",
              "    <tr style=\"text-align: right;\">\n",
              "      <th></th>\n",
              "      <th>Headline</th>\n",
              "      <th>Source_x</th>\n",
              "      <th>Posted_x</th>\n",
              "      <th>Link_x</th>\n",
              "      <th>Summary_x</th>\n",
              "      <th>hyperpartisan</th>\n",
              "      <th>Source_y</th>\n",
              "      <th>Posted_y</th>\n",
              "      <th>Link_y</th>\n",
              "      <th>Summary_y</th>\n",
              "      <th>lex_count_x</th>\n",
              "      <th>num_sentences_x</th>\n",
              "      <th>num_syllables_x</th>\n",
              "      <th>flesch_kincaid_grade_x</th>\n",
              "      <th>gunning_fog_x</th>\n",
              "      <th>avg_syllables_x</th>\n",
              "      <th>avg_sentence_length_x</th>\n",
              "      <th>Sentiment_Score</th>\n",
              "      <th>deceptiveness_factor</th>\n",
              "      <th>lex_count_y</th>\n",
              "      <th>num_sentences_y</th>\n",
              "      <th>num_syllables_y</th>\n",
              "      <th>flesch_kincaid_grade_y</th>\n",
              "      <th>gunning_fog_y</th>\n",
              "      <th>avg_syllables_y</th>\n",
              "      <th>avg_sentence_length_y</th>\n",
              "      <th>flesch</th>\n",
              "      <th>is_q</th>\n",
              "      <th>is_exclam</th>\n",
              "      <th>is_money</th>\n",
              "      <th>starts_num</th>\n",
              "      <th>num_words</th>\n",
              "      <th>All_Caps</th>\n",
              "      <th>yellow_factor</th>\n",
              "    </tr>\n",
              "  </thead>\n",
              "  <tbody>\n",
              "    <tr>\n",
              "      <th>0</th>\n",
              "      <td>The Latest: PGA'S Todd tests positive, out of ...</td>\n",
              "      <td>San Francisco Chronicle</td>\n",
              "      <td>3 hours ago</td>\n",
              "      <td>https://www.sfgate.com/sports/article/The-Late...</td>\n",
              "      <td>The Latest on the effects of the coronavirus o...</td>\n",
              "      <td>False</td>\n",
              "      <td>San Francisco Chronicle</td>\n",
              "      <td>3 hours ago</td>\n",
              "      <td>https://www.sfgate.com/sports/article/The-Late...</td>\n",
              "      <td>The Latest on the effects of the coronavirus o...</td>\n",
              "      <td>110</td>\n",
              "      <td>5</td>\n",
              "      <td>162</td>\n",
              "      <td>10.7</td>\n",
              "      <td>12.07</td>\n",
              "      <td>1.472727</td>\n",
              "      <td>22.000000</td>\n",
              "      <td>0.8779</td>\n",
              "      <td>1</td>\n",
              "      <td>110</td>\n",
              "      <td>5</td>\n",
              "      <td>162</td>\n",
              "      <td>10.7</td>\n",
              "      <td>12.07</td>\n",
              "      <td>1.472727</td>\n",
              "      <td>22.000000</td>\n",
              "      <td>63.61</td>\n",
              "      <td>0</td>\n",
              "      <td>0</td>\n",
              "      <td>0</td>\n",
              "      <td>0</td>\n",
              "      <td>110</td>\n",
              "      <td>0</td>\n",
              "      <td>0</td>\n",
              "    </tr>\n",
              "    <tr>\n",
              "      <th>1</th>\n",
              "      <td>The latest hockey player to enter the realm of...</td>\n",
              "      <td>ESPN</td>\n",
              "      <td>11 hours ago</td>\n",
              "      <td>https://www.espn.com/nhl/story/_/id/31383777/h...</td>\n",
              "      <td>Hall of Famer Bryan Trottier reflects on his e...</td>\n",
              "      <td>False</td>\n",
              "      <td>ESPN</td>\n",
              "      <td>11 hours ago</td>\n",
              "      <td>https://www.espn.com/nhl/story/_/id/31383777/h...</td>\n",
              "      <td>Hall of Famer Bryan Trottier reflects on his e...</td>\n",
              "      <td>82</td>\n",
              "      <td>3</td>\n",
              "      <td>118</td>\n",
              "      <td>11.6</td>\n",
              "      <td>14.33</td>\n",
              "      <td>1.439024</td>\n",
              "      <td>27.333333</td>\n",
              "      <td>0.7650</td>\n",
              "      <td>1</td>\n",
              "      <td>82</td>\n",
              "      <td>3</td>\n",
              "      <td>118</td>\n",
              "      <td>11.6</td>\n",
              "      <td>14.33</td>\n",
              "      <td>1.439024</td>\n",
              "      <td>27.333333</td>\n",
              "      <td>60.53</td>\n",
              "      <td>1</td>\n",
              "      <td>0</td>\n",
              "      <td>0</td>\n",
              "      <td>0</td>\n",
              "      <td>82</td>\n",
              "      <td>1</td>\n",
              "      <td>0</td>\n",
              "    </tr>\n",
              "    <tr>\n",
              "      <th>2</th>\n",
              "      <td>Morrison's latest announcement has disgusted s...</td>\n",
              "      <td>MSN News</td>\n",
              "      <td>5 hours ago</td>\n",
              "      <td>https://www.msn.com/en-gb/news/newsbirmingham/...</td>\n",
              "      <td>This site uses cookies for analytics, personal...</td>\n",
              "      <td>False</td>\n",
              "      <td>MSN News</td>\n",
              "      <td>5 hours ago</td>\n",
              "      <td>https://www.msn.com/en-gb/news/newsbirmingham/...</td>\n",
              "      <td>This site uses cookies for analytics, personal...</td>\n",
              "      <td>21</td>\n",
              "      <td>2</td>\n",
              "      <td>34</td>\n",
              "      <td>7.4</td>\n",
              "      <td>9.91</td>\n",
              "      <td>1.619048</td>\n",
              "      <td>10.500000</td>\n",
              "      <td>0.3612</td>\n",
              "      <td>1</td>\n",
              "      <td>21</td>\n",
              "      <td>2</td>\n",
              "      <td>34</td>\n",
              "      <td>7.4</td>\n",
              "      <td>9.91</td>\n",
              "      <td>1.619048</td>\n",
              "      <td>10.500000</td>\n",
              "      <td>60.40</td>\n",
              "      <td>0</td>\n",
              "      <td>0</td>\n",
              "      <td>0</td>\n",
              "      <td>0</td>\n",
              "      <td>21</td>\n",
              "      <td>0</td>\n",
              "      <td>1</td>\n",
              "    </tr>\n",
              "    <tr>\n",
              "      <th>3</th>\n",
              "      <td>Chris Weidman shares latest health update afte...</td>\n",
              "      <td>BJPenn.com</td>\n",
              "      <td>7 hours ago</td>\n",
              "      <td>https://www.bjpenn.com/mma-news/ufc/chris-weid...</td>\n",
              "      <td>Former UFC middleweight champion Chris Weidman...</td>\n",
              "      <td>False</td>\n",
              "      <td>BJPenn.com</td>\n",
              "      <td>7 hours ago</td>\n",
              "      <td>https://www.bjpenn.com/mma-news/ufc/chris-weid...</td>\n",
              "      <td>Former UFC middleweight champion Chris Weidman...</td>\n",
              "      <td>126</td>\n",
              "      <td>5</td>\n",
              "      <td>182</td>\n",
              "      <td>10.8</td>\n",
              "      <td>12.62</td>\n",
              "      <td>1.444444</td>\n",
              "      <td>25.200000</td>\n",
              "      <td>-0.8070</td>\n",
              "      <td>1</td>\n",
              "      <td>126</td>\n",
              "      <td>5</td>\n",
              "      <td>182</td>\n",
              "      <td>10.8</td>\n",
              "      <td>12.62</td>\n",
              "      <td>1.444444</td>\n",
              "      <td>25.200000</td>\n",
              "      <td>58.40</td>\n",
              "      <td>0</td>\n",
              "      <td>0</td>\n",
              "      <td>0</td>\n",
              "      <td>0</td>\n",
              "      <td>126</td>\n",
              "      <td>3</td>\n",
              "      <td>0</td>\n",
              "    </tr>\n",
              "    <tr>\n",
              "      <th>4</th>\n",
              "      <td>Elden Ring Latest Leaked Footage Is Not Real, ...</td>\n",
              "      <td>Wccftech</td>\n",
              "      <td>10 hours ago</td>\n",
              "      <td>https://wccftech.com/elden-ring-latest-leaked-...</td>\n",
              "      <td>The latest Elden Ring leaked footage is appare...</td>\n",
              "      <td>False</td>\n",
              "      <td>Wccftech</td>\n",
              "      <td>10 hours ago</td>\n",
              "      <td>https://wccftech.com/elden-ring-latest-leaked-...</td>\n",
              "      <td>The latest Elden Ring leaked footage is appare...</td>\n",
              "      <td>99</td>\n",
              "      <td>5</td>\n",
              "      <td>131</td>\n",
              "      <td>7.5</td>\n",
              "      <td>9.94</td>\n",
              "      <td>1.323232</td>\n",
              "      <td>19.800000</td>\n",
              "      <td>-0.6705</td>\n",
              "      <td>1</td>\n",
              "      <td>99</td>\n",
              "      <td>5</td>\n",
              "      <td>131</td>\n",
              "      <td>7.5</td>\n",
              "      <td>9.94</td>\n",
              "      <td>1.323232</td>\n",
              "      <td>19.800000</td>\n",
              "      <td>44.46</td>\n",
              "      <td>0</td>\n",
              "      <td>0</td>\n",
              "      <td>0</td>\n",
              "      <td>0</td>\n",
              "      <td>99</td>\n",
              "      <td>1</td>\n",
              "      <td>0</td>\n",
              "    </tr>\n",
              "  </tbody>\n",
              "</table>\n",
              "</div>"
            ],
            "text/plain": [
              "                                            Headline  ... yellow_factor\n",
              "0  The Latest: PGA'S Todd tests positive, out of ...  ...             0\n",
              "1  The latest hockey player to enter the realm of...  ...             0\n",
              "2  Morrison's latest announcement has disgusted s...  ...             1\n",
              "3  Chris Weidman shares latest health update afte...  ...             0\n",
              "4  Elden Ring Latest Leaked Footage Is Not Real, ...  ...             0\n",
              "\n",
              "[5 rows x 34 columns]"
            ]
          },
          "metadata": {
            "tags": []
          },
          "execution_count": 94
        }
      ]
    },
    {
      "cell_type": "code",
      "metadata": {
        "id": "i_hGvutcSuQ_"
      },
      "source": [
        "ensemble_df_detailed['hyperpartisan'] = ensemble_df_detailed['hyperpartisan'].apply(lambda x:int(x == 'true')) "
      ],
      "execution_count": null,
      "outputs": []
    },
    {
      "cell_type": "code",
      "metadata": {
        "colab": {
          "base_uri": "https://localhost:8080/"
        },
        "id": "4dZ0SkBoUJ9w",
        "outputId": "7f75ef34-c18d-49b2-953b-537e7b58f3f8"
      },
      "source": [
        "ensemble_df_detailed['hyperpartisan']"
      ],
      "execution_count": null,
      "outputs": [
        {
          "output_type": "execute_result",
          "data": {
            "text/plain": [
              "0    0\n",
              "1    0\n",
              "2    0\n",
              "3    0\n",
              "4    0\n",
              "5    0\n",
              "6    0\n",
              "Name: hyperpartisan, dtype: int64"
            ]
          },
          "metadata": {
            "tags": []
          },
          "execution_count": 96
        }
      ]
    },
    {
      "cell_type": "markdown",
      "metadata": {
        "id": "FtLRweZ-sFM5"
      },
      "source": [
        "**Applying a weighted average based on accuracy**"
      ]
    },
    {
      "cell_type": "code",
      "metadata": {
        "id": "gDnxXEcElSP8"
      },
      "source": [
        "##Applying a simple ensemble \n",
        "ensemble_df_detailed['badStyle_score'] = ensemble_df_detailed['deceptiveness_factor']*0.4 + ensemble_df_detailed['yellow_factor']*0.4 + ensemble_df_detailed['hyperpartisan']*0.2 "
      ],
      "execution_count": null,
      "outputs": []
    },
    {
      "cell_type": "code",
      "metadata": {
        "colab": {
          "base_uri": "https://localhost:8080/",
          "height": 551
        },
        "id": "Ch5eumB4l5SF",
        "outputId": "edb5af79-45d5-428f-a894-21948938c97d"
      },
      "source": [
        "ensemble_df_detailed.head()"
      ],
      "execution_count": null,
      "outputs": [
        {
          "output_type": "execute_result",
          "data": {
            "text/html": [
              "<div>\n",
              "<style scoped>\n",
              "    .dataframe tbody tr th:only-of-type {\n",
              "        vertical-align: middle;\n",
              "    }\n",
              "\n",
              "    .dataframe tbody tr th {\n",
              "        vertical-align: top;\n",
              "    }\n",
              "\n",
              "    .dataframe thead th {\n",
              "        text-align: right;\n",
              "    }\n",
              "</style>\n",
              "<table border=\"1\" class=\"dataframe\">\n",
              "  <thead>\n",
              "    <tr style=\"text-align: right;\">\n",
              "      <th></th>\n",
              "      <th>Headline</th>\n",
              "      <th>Source_x</th>\n",
              "      <th>Posted_x</th>\n",
              "      <th>Link_x</th>\n",
              "      <th>Summary_x</th>\n",
              "      <th>hyperpartisan</th>\n",
              "      <th>Source_y</th>\n",
              "      <th>Posted_y</th>\n",
              "      <th>Link_y</th>\n",
              "      <th>Summary_y</th>\n",
              "      <th>lex_count_x</th>\n",
              "      <th>num_sentences_x</th>\n",
              "      <th>num_syllables_x</th>\n",
              "      <th>flesch_kincaid_grade_x</th>\n",
              "      <th>gunning_fog_x</th>\n",
              "      <th>avg_syllables_x</th>\n",
              "      <th>avg_sentence_length_x</th>\n",
              "      <th>Sentiment_Score</th>\n",
              "      <th>deceptiveness_factor</th>\n",
              "      <th>lex_count_y</th>\n",
              "      <th>num_sentences_y</th>\n",
              "      <th>num_syllables_y</th>\n",
              "      <th>flesch_kincaid_grade_y</th>\n",
              "      <th>gunning_fog_y</th>\n",
              "      <th>avg_syllables_y</th>\n",
              "      <th>avg_sentence_length_y</th>\n",
              "      <th>flesch</th>\n",
              "      <th>is_q</th>\n",
              "      <th>is_exclam</th>\n",
              "      <th>is_money</th>\n",
              "      <th>starts_num</th>\n",
              "      <th>num_words</th>\n",
              "      <th>All_Caps</th>\n",
              "      <th>yellow_factor</th>\n",
              "      <th>badStyle_score</th>\n",
              "    </tr>\n",
              "  </thead>\n",
              "  <tbody>\n",
              "    <tr>\n",
              "      <th>0</th>\n",
              "      <td>The Latest: PGA'S Todd tests positive, out of ...</td>\n",
              "      <td>San Francisco Chronicle</td>\n",
              "      <td>3 hours ago</td>\n",
              "      <td>https://www.sfgate.com/sports/article/The-Late...</td>\n",
              "      <td>The Latest on the effects of the coronavirus o...</td>\n",
              "      <td>0</td>\n",
              "      <td>San Francisco Chronicle</td>\n",
              "      <td>3 hours ago</td>\n",
              "      <td>https://www.sfgate.com/sports/article/The-Late...</td>\n",
              "      <td>The Latest on the effects of the coronavirus o...</td>\n",
              "      <td>110</td>\n",
              "      <td>5</td>\n",
              "      <td>162</td>\n",
              "      <td>10.7</td>\n",
              "      <td>12.07</td>\n",
              "      <td>1.472727</td>\n",
              "      <td>22.000000</td>\n",
              "      <td>0.8779</td>\n",
              "      <td>1</td>\n",
              "      <td>110</td>\n",
              "      <td>5</td>\n",
              "      <td>162</td>\n",
              "      <td>10.7</td>\n",
              "      <td>12.07</td>\n",
              "      <td>1.472727</td>\n",
              "      <td>22.000000</td>\n",
              "      <td>63.61</td>\n",
              "      <td>0</td>\n",
              "      <td>0</td>\n",
              "      <td>0</td>\n",
              "      <td>0</td>\n",
              "      <td>110</td>\n",
              "      <td>0</td>\n",
              "      <td>0</td>\n",
              "      <td>0.4</td>\n",
              "    </tr>\n",
              "    <tr>\n",
              "      <th>1</th>\n",
              "      <td>The latest hockey player to enter the realm of...</td>\n",
              "      <td>ESPN</td>\n",
              "      <td>11 hours ago</td>\n",
              "      <td>https://www.espn.com/nhl/story/_/id/31383777/h...</td>\n",
              "      <td>Hall of Famer Bryan Trottier reflects on his e...</td>\n",
              "      <td>0</td>\n",
              "      <td>ESPN</td>\n",
              "      <td>11 hours ago</td>\n",
              "      <td>https://www.espn.com/nhl/story/_/id/31383777/h...</td>\n",
              "      <td>Hall of Famer Bryan Trottier reflects on his e...</td>\n",
              "      <td>82</td>\n",
              "      <td>3</td>\n",
              "      <td>118</td>\n",
              "      <td>11.6</td>\n",
              "      <td>14.33</td>\n",
              "      <td>1.439024</td>\n",
              "      <td>27.333333</td>\n",
              "      <td>0.7650</td>\n",
              "      <td>1</td>\n",
              "      <td>82</td>\n",
              "      <td>3</td>\n",
              "      <td>118</td>\n",
              "      <td>11.6</td>\n",
              "      <td>14.33</td>\n",
              "      <td>1.439024</td>\n",
              "      <td>27.333333</td>\n",
              "      <td>60.53</td>\n",
              "      <td>1</td>\n",
              "      <td>0</td>\n",
              "      <td>0</td>\n",
              "      <td>0</td>\n",
              "      <td>82</td>\n",
              "      <td>1</td>\n",
              "      <td>0</td>\n",
              "      <td>0.4</td>\n",
              "    </tr>\n",
              "    <tr>\n",
              "      <th>2</th>\n",
              "      <td>Morrison's latest announcement has disgusted s...</td>\n",
              "      <td>MSN News</td>\n",
              "      <td>5 hours ago</td>\n",
              "      <td>https://www.msn.com/en-gb/news/newsbirmingham/...</td>\n",
              "      <td>This site uses cookies for analytics, personal...</td>\n",
              "      <td>0</td>\n",
              "      <td>MSN News</td>\n",
              "      <td>5 hours ago</td>\n",
              "      <td>https://www.msn.com/en-gb/news/newsbirmingham/...</td>\n",
              "      <td>This site uses cookies for analytics, personal...</td>\n",
              "      <td>21</td>\n",
              "      <td>2</td>\n",
              "      <td>34</td>\n",
              "      <td>7.4</td>\n",
              "      <td>9.91</td>\n",
              "      <td>1.619048</td>\n",
              "      <td>10.500000</td>\n",
              "      <td>0.3612</td>\n",
              "      <td>1</td>\n",
              "      <td>21</td>\n",
              "      <td>2</td>\n",
              "      <td>34</td>\n",
              "      <td>7.4</td>\n",
              "      <td>9.91</td>\n",
              "      <td>1.619048</td>\n",
              "      <td>10.500000</td>\n",
              "      <td>60.40</td>\n",
              "      <td>0</td>\n",
              "      <td>0</td>\n",
              "      <td>0</td>\n",
              "      <td>0</td>\n",
              "      <td>21</td>\n",
              "      <td>0</td>\n",
              "      <td>1</td>\n",
              "      <td>0.8</td>\n",
              "    </tr>\n",
              "    <tr>\n",
              "      <th>3</th>\n",
              "      <td>Chris Weidman shares latest health update afte...</td>\n",
              "      <td>BJPenn.com</td>\n",
              "      <td>7 hours ago</td>\n",
              "      <td>https://www.bjpenn.com/mma-news/ufc/chris-weid...</td>\n",
              "      <td>Former UFC middleweight champion Chris Weidman...</td>\n",
              "      <td>0</td>\n",
              "      <td>BJPenn.com</td>\n",
              "      <td>7 hours ago</td>\n",
              "      <td>https://www.bjpenn.com/mma-news/ufc/chris-weid...</td>\n",
              "      <td>Former UFC middleweight champion Chris Weidman...</td>\n",
              "      <td>126</td>\n",
              "      <td>5</td>\n",
              "      <td>182</td>\n",
              "      <td>10.8</td>\n",
              "      <td>12.62</td>\n",
              "      <td>1.444444</td>\n",
              "      <td>25.200000</td>\n",
              "      <td>-0.8070</td>\n",
              "      <td>1</td>\n",
              "      <td>126</td>\n",
              "      <td>5</td>\n",
              "      <td>182</td>\n",
              "      <td>10.8</td>\n",
              "      <td>12.62</td>\n",
              "      <td>1.444444</td>\n",
              "      <td>25.200000</td>\n",
              "      <td>58.40</td>\n",
              "      <td>0</td>\n",
              "      <td>0</td>\n",
              "      <td>0</td>\n",
              "      <td>0</td>\n",
              "      <td>126</td>\n",
              "      <td>3</td>\n",
              "      <td>0</td>\n",
              "      <td>0.4</td>\n",
              "    </tr>\n",
              "    <tr>\n",
              "      <th>4</th>\n",
              "      <td>Elden Ring Latest Leaked Footage Is Not Real, ...</td>\n",
              "      <td>Wccftech</td>\n",
              "      <td>10 hours ago</td>\n",
              "      <td>https://wccftech.com/elden-ring-latest-leaked-...</td>\n",
              "      <td>The latest Elden Ring leaked footage is appare...</td>\n",
              "      <td>0</td>\n",
              "      <td>Wccftech</td>\n",
              "      <td>10 hours ago</td>\n",
              "      <td>https://wccftech.com/elden-ring-latest-leaked-...</td>\n",
              "      <td>The latest Elden Ring leaked footage is appare...</td>\n",
              "      <td>99</td>\n",
              "      <td>5</td>\n",
              "      <td>131</td>\n",
              "      <td>7.5</td>\n",
              "      <td>9.94</td>\n",
              "      <td>1.323232</td>\n",
              "      <td>19.800000</td>\n",
              "      <td>-0.6705</td>\n",
              "      <td>1</td>\n",
              "      <td>99</td>\n",
              "      <td>5</td>\n",
              "      <td>131</td>\n",
              "      <td>7.5</td>\n",
              "      <td>9.94</td>\n",
              "      <td>1.323232</td>\n",
              "      <td>19.800000</td>\n",
              "      <td>44.46</td>\n",
              "      <td>0</td>\n",
              "      <td>0</td>\n",
              "      <td>0</td>\n",
              "      <td>0</td>\n",
              "      <td>99</td>\n",
              "      <td>1</td>\n",
              "      <td>0</td>\n",
              "      <td>0.4</td>\n",
              "    </tr>\n",
              "  </tbody>\n",
              "</table>\n",
              "</div>"
            ],
            "text/plain": [
              "                                            Headline  ... badStyle_score\n",
              "0  The Latest: PGA'S Todd tests positive, out of ...  ...            0.4\n",
              "1  The latest hockey player to enter the realm of...  ...            0.4\n",
              "2  Morrison's latest announcement has disgusted s...  ...            0.8\n",
              "3  Chris Weidman shares latest health update afte...  ...            0.4\n",
              "4  Elden Ring Latest Leaked Footage Is Not Real, ...  ...            0.4\n",
              "\n",
              "[5 rows x 35 columns]"
            ]
          },
          "metadata": {
            "tags": []
          },
          "execution_count": 98
        }
      ]
    },
    {
      "cell_type": "markdown",
      "metadata": {
        "id": "H9p4tmZA3Xl8"
      },
      "source": [
        "**We now have a badStyle_score which tells us the scale of bad style present in text.**"
      ]
    },
    {
      "cell_type": "markdown",
      "metadata": {
        "id": "b3PwZiklw1jR"
      },
      "source": [
        "# Visualizing our results"
      ]
    },
    {
      "cell_type": "code",
      "metadata": {
        "colab": {
          "base_uri": "https://localhost:8080/",
          "height": 337
        },
        "id": "z52oVg_OoxjR",
        "outputId": "d55734f6-78a3-4736-a877-494f468833bb"
      },
      "source": [
        "##Visualizing style factor results\n",
        "import matplotlib.pyplot as plt\n",
        "import seaborn as sns\n",
        "\n",
        "plt.figure(figsize=(10,5))\n",
        "plt.xlim(0,2)\n",
        "sns.distplot(ensemble_df_detailed['badStyle_score'],bins=5,kde=False)\n",
        "plt.xlabel('badStyle_score')\n",
        "plt.ylabel('Count')\n",
        "plt.show()"
      ],
      "execution_count": null,
      "outputs": [
        {
          "output_type": "display_data",
          "data": {
            "image/png": "[encoded data removed]",
            "text/plain": [
              "<Figure size 720x360 with 1 Axes>"
            ]
          },
          "metadata": {
            "tags": []
          }
        }
      ]
    },
    {
      "cell_type": "markdown",
      "metadata": {
        "id": "SEh3HVwRsRKq"
      },
      "source": [
        "The above plot tells us that majority of the articles are genuine with badStyle_score of 0.50"
      ]
    },
    {
      "cell_type": "code",
      "metadata": {
        "colab": {
          "base_uri": "https://localhost:8080/",
          "height": 469
        },
        "id": "1iESaa5ew0Eq",
        "outputId": "9f3a6059-2d88-4847-930c-4b308092eaa7"
      },
      "source": [
        "##Displaying the sources and their bad style factor\n",
        "plt.figure(figsize=(10,5))\n",
        "test_df = ensemble_df_detailed\n",
        "plt.bar(test_df['Source'], test_df['badStyle_score'])\n",
        "plt.xticks(rotation=90)\n",
        "plt.title('Displaying the top sources and their bad style factor')\n",
        "plt.xlabel('Source')\n",
        "plt.ylabel('badStyle_factor')\n",
        "plt.show()"
      ],
      "execution_count": null,
      "outputs": [
        {
          "output_type": "display_data",
          "data": {
            "image/png": "[encoded data removed]",
            "text/plain": [
              "<Figure size 720x360 with 1 Axes>"
            ]
          },
          "metadata": {
            "tags": []
          }
        }
      ]
    },
    {
      "cell_type": "code",
      "metadata": {
        "colab": {
          "base_uri": "https://localhost:8080/",
          "height": 369
        },
        "id": "jg1h6PfweD9t",
        "outputId": "eea27309-9df2-4652-b5f1-dcb7a6b30eb7"
      },
      "source": [
        "#yellow_factor countplot\n",
        "#visualizing yellow_factor frequency of dataset\n",
        "sns.set_style('darkgrid')\n",
        "plt.figure(figsize=(7,5))\n",
        "fig1=sns.countplot(ensemble_df_detailed['yellow_factor'], alpha =.80, palette= ['#1a66ff','black'])\n",
        "plt.title('yellow_factor distribution')\n",
        "plt.tight_layout()\n",
        "plt.show()"
      ],
      "execution_count": null,
      "outputs": [
        {
          "output_type": "display_data",
          "data": {
            "image/png": "[encoded data removed]",
            "text/plain": [
              "<Figure size 504x360 with 1 Axes>"
            ]
          },
          "metadata": {
            "tags": []
          }
        }
      ]
    },
    {
      "cell_type": "code",
      "metadata": {
        "colab": {
          "base_uri": "https://localhost:8080/",
          "height": 734
        },
        "id": "BPSTAPODyFF5",
        "outputId": "6bc0a089-7676-4591-e165-ac13567d44b5"
      },
      "source": [
        "#plotting engineered features to compare by yellow_factor \n",
        "import matplotlib.pyplot as plt\n",
        "from matplotlib import style\n",
        "sns.set_style('darkgrid')\n",
        "\n",
        "figure, axes = plt.subplots(nrows=2, ncols=2, figsize=(12,12))\n",
        "\n",
        "plot = ensemble_df_detailed.groupby('is_q')['yellow_factor'].value_counts().unstack().plot.bar(ax=axes[0,0], rot=0)\n",
        "plot.set_xlabel('Question Headline')\n",
        "plot.set_ylabel('Number of Headlines')\n",
        "plot.set(xticklabels=['No','Yes'])\n",
        "plot.set_title('Text contains Questions')\n",
        "\n",
        "plot = ensemble_df_detailed.groupby('is_money')['yellow_factor'].value_counts().unstack().plot.bar(ax=axes[0,1], rot=0)\n",
        "plot.set_xlabel('Money Related')\n",
        "plot.set(xticklabels=['No','Yes'])\n",
        "plot.set_ylabel('Number of Headlines')\n",
        "plot.set_title('Text contains money related info')\n",
        "\n",
        "plot = ensemble_df_detailed.groupby('All_Caps')['yellow_factor'].value_counts().unstack().plot.bar(ax=axes[1,0], rot=0)\n",
        "plot.set_xlabel('Contains all caps')\n",
        "plot.set_ylabel('Number of Headlines')\n",
        "# plot.set(xticklabels=['No','Yes'])\n",
        "plot.set_title('Text contains all caps words')\n",
        "\n",
        "plot = ensemble_df_detailed.groupby('is_exclam')['yellow_factor'].value_counts().unstack().plot.bar(ax=axes[1,1], rot=0)\n",
        "plot.set_xlabel('Contains an !')\n",
        "plot.set_ylabel('Number of Headlines')\n",
        "plot.set(xticklabels=['No','Yes'])\n",
        "plot.set_title('Text contains an Exclamation (!)')\n",
        "\n",
        "style.use('ggplot')\n",
        "plt.show()"
      ],
      "execution_count": null,
      "outputs": [
        {
          "output_type": "display_data",
          "data": {
            "image/png": "[encoded data removed]",
            "text/plain": [
              "<Figure size 864x864 with 4 Axes>"
            ]
          },
          "metadata": {
            "tags": []
          }
        }
      ]
    },
    {
      "cell_type": "markdown",
      "metadata": {
        "id": "rPpGjHL0sytg"
      },
      "source": [
        "* The first row plots are not accurate since we expect question marks and money related details to be present in articles with yellow_factor = 2. \n",
        "* In the bottom left plot, we can see how ALL_CAPS words are mainly present in moderately and highly yellow articles only, and no ALL_CAPS words in least yellow articles."
      ]
    },
    {
      "cell_type": "code",
      "metadata": {
        "colab": {
          "base_uri": "https://localhost:8080/",
          "height": 369
        },
        "id": "Xwcai8h8yopd",
        "outputId": "f0b7ef27-195c-4b9b-8f5e-af4b974ca66d"
      },
      "source": [
        "#deceptiveness_factor countplot\n",
        "#visualizing deceptiveness_factor frequency of dataset\n",
        "sns.set_style('darkgrid')\n",
        "plt.figure(figsize=(7,5))\n",
        "fig1=sns.countplot(ensemble_df_detailed['deceptiveness_factor'], alpha =.80, palette= ['#1a66ff','black'])\n",
        "plt.title('deceptiveness_factor distribution')\n",
        "plt.tight_layout()\n",
        "plt.show()"
      ],
      "execution_count": null,
      "outputs": [
        {
          "output_type": "display_data",
          "data": {
            "image/png": "[encoded data removed]",
            "text/plain": [
              "<Figure size 504x360 with 1 Axes>"
            ]
          },
          "metadata": {
            "tags": []
          }
        }
      ]
    },
    {
      "cell_type": "code",
      "metadata": {
        "colab": {
          "base_uri": "https://localhost:8080/",
          "height": 282
        },
        "id": "POYWELvoegWb",
        "outputId": "41a5dc61-130a-4249-9f83-10f4fed29b5b"
      },
      "source": [
        "##Creating a dataframe with unique sources and its average deceptive values\n",
        "deceptiveness_df_avgSent = (\n",
        "    ensemble_df_detailed\n",
        "    .groupby('deceptiveness_factor')\n",
        "    .agg({\"avg_sentence_length\":\"mean\"})\n",
        "    .sort_values('avg_sentence_length', ascending=False)\n",
        "    .reset_index()\n",
        ")\n",
        "ax = sns.barplot(x=\"deceptiveness_factor\", y=\"avg_sentence_length\", data=deceptiveness_df_avgSent)"
      ],
      "execution_count": null,
      "outputs": [
        {
          "output_type": "display_data",
          "data": {
            "image/png": "[encoded data removed]",
            "text/plain": [
              "<Figure size 432x288 with 1 Axes>"
            ]
          },
          "metadata": {
            "tags": []
          }
        }
      ]
    },
    {
      "cell_type": "markdown",
      "metadata": {
        "id": "svduJrsxe0tq"
      },
      "source": [
        "The above plot says that the average sentence length is longer in deceptive news articles, but this is incorrect as suggested by the reference paper. "
      ]
    },
    {
      "cell_type": "code",
      "metadata": {
        "colab": {
          "base_uri": "https://localhost:8080/",
          "height": 282
        },
        "id": "duLqlNu4ezws",
        "outputId": "4ae3722b-8344-4409-ca65-3f719fb1002c"
      },
      "source": [
        "##Creating a dataframe with unique sources and its average deceptive values\n",
        "deceptiveness_df_avgSyllables = (\n",
        "    ensemble_df_detailed\n",
        "    .groupby('deceptiveness_factor')\n",
        "    .agg({\"avg_syllables\":\"mean\"})\n",
        "    .sort_values('avg_syllables', ascending=False)\n",
        "    .reset_index()\n",
        ")\n",
        "ax = sns.barplot(x=\"deceptiveness_factor\", y=\"avg_syllables\", data=deceptiveness_df_avgSyllables)"
      ],
      "execution_count": null,
      "outputs": [
        {
          "output_type": "display_data",
          "data": {
            "image/png": "[encoded data removed]",
            "text/plain": [
              "<Figure size 432x288 with 1 Axes>"
            ]
          },
          "metadata": {
            "tags": []
          }
        }
      ]
    },
    {
      "cell_type": "markdown",
      "metadata": {
        "id": "Xzkuky73filA"
      },
      "source": [
        "Average syllables per word is higher in deciever and lower in truthful news articles as per the paper and our prediction. This matches"
      ]
    },
    {
      "cell_type": "markdown",
      "metadata": {
        "id": "iY1T138wyvsk"
      },
      "source": [
        "## **References**\n",
        "* https://algotrading101.com/learn/sentiment-analysis-python-guide/\n",
        "* https://github.com/Lucas170/Sentiment-Analysis-1-TSLA-Headlines\n",
        "* https://github.com/AlisonSalerno/clickbait_detector\n",
        "* https://github.com/aarsanjani/applied-ml-2020/blob/master/MullerLoop.ipynb\n",
        "* https://github.com/dhrushilbadani/YellowFever\n",
        "* https://pypi.org/project/textstat/\n",
        "\n"
      ]
    }
  ]
}