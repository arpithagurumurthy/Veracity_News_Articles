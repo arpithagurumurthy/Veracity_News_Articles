{
  "nbformat": 4,
  "nbformat_minor": 0,
  "metadata": {
    "colab": {
      "provenance": []
    },
    "kernelspec": {
      "name": "python3",
      "display_name": "Python 3"
    },
    "language_info": {
      "name": "python"
    }
  },
  "cells": [
    {
      "cell_type": "markdown",
      "metadata": {
        "id": "zevnT4S7KTDo"
      },
      "source": [
        "Arpitha Gurumurthy </br>\n",
        "Team: Amalgam\n",
        "# **Factor: Style Based approaches for fake news detection**\n",
        "There are mainly two typical categories of style-based\n",
        "methods: \n",
        "* Deception-oriented\n",
        "  * Deception-oriented stylometric methods capture the\n",
        "deceptive statements or claims from news content.\n",
        "  * Rhetorical structure theory can be utilized to capture\n",
        "the differences between deceptive and truthful sentences\n",
        "* Rhetoric - language designed to have a persuasive or impressive effect on its audience, but often regarded as lacking in sincerity or meaningful content\n",
        "*  Objectivity-oriented\n",
        "  * Objectivity-oriented approaches capture style signals\n",
        "that can indicate a decreased objectivity of news content\n",
        "and thus the potential to mislead consumers, such\n",
        "as hyperpartisan styles and yellow-journalism.\n",
        "\n",
        "\n",
        "\n",
        "### Micro factors for Style based based on the above stated points:\n",
        "* Hyperpartisan: Extremely one sided\n",
        "* Yellow Journalism: relying on eye-catching headlines\n",
        "* Rhetorical structure theory (for future work)\n",
        "\n",
        "### Articles for reference:\n",
        "* https://arxiv.org/pdf/1708.01967.pdf\n",
        "* https://arxiv.org/pdf/1702.05638.pdf\n",
        "* https://www.aclweb.org/anthology/S19-2187.pdf\n",
        "\n",
        "Hyperpartisan styles represent extreme behavior in favor of a\n",
        "particular political party, which often correlates with\n",
        "a strong motivation to create fake news.\n",
        "\n",
        "**Data**: SemEval Hyperpartisan News Detection task dataset.\n",
        "\n",
        "**Dates**: Timestamp('1902-02-01') - Timestamp('2018-08-28')\n",
        "\n"
      ]
    },
    {
      "cell_type": "code",
      "metadata": {
        "colab": {
          "base_uri": "https://localhost:8080/"
        },
        "id": "QevjZHLm0PBd",
        "outputId": "3b9aea5c-d250-4e57-8fea-c7f1380f56bd"
      },
      "source": [
        "from google.colab import drive\n",
        "drive.mount('/content/gdrive')"
      ],
      "execution_count": null,
      "outputs": [
        {
          "output_type": "stream",
          "text": [
            "Mounted at /content/gdrive\n"
          ],
          "name": "stdout"
        }
      ]
    },
    {
      "cell_type": "code",
      "metadata": {
        "colab": {
          "base_uri": "https://localhost:8080/"
        },
        "id": "Ibdzlrtd0f0K",
        "outputId": "97c4449e-01a3-4497-d71c-5d319bd864f2"
      },
      "source": [
        "%cd /content/gdrive/My Drive/hyperpartisan/"
      ],
      "execution_count": null,
      "outputs": [
        {
          "output_type": "stream",
          "text": [
            "/content/gdrive/My Drive/hyperpartisan\n"
          ],
          "name": "stdout"
        }
      ]
    },
    {
      "cell_type": "code",
      "metadata": {
        "id": "ka-PL71O0ky0"
      },
      "source": [
        "import pandas as pd\n",
        "import numpy as np\n",
        "from sklearn.model_selection import StratifiedShuffleSplit\n",
        "from nltk.corpus import stopwords"
      ],
      "execution_count": null,
      "outputs": []
    },
    {
      "cell_type": "code",
      "metadata": {
        "colab": {
          "base_uri": "https://localhost:8080/"
        },
        "id": "DgW78OLH3bgc",
        "outputId": "6c94e574-7998-4c29-bff6-4f84b2196e8f"
      },
      "source": [
        "import nltk\n",
        "nltk.download('punkt')\n",
        "nltk.download('stopwords')"
      ],
      "execution_count": null,
      "outputs": [
        {
          "output_type": "stream",
          "text": [
            "[nltk_data] Downloading package punkt to /root/nltk_data...\n",
            "[nltk_data]   Unzipping tokenizers/punkt.zip.\n",
            "[nltk_data] Downloading package stopwords to /root/nltk_data...\n",
            "[nltk_data]   Unzipping corpora/stopwords.zip.\n"
          ],
          "name": "stdout"
        },
        {
          "output_type": "execute_result",
          "data": {
            "text/plain": [
              "True"
            ]
          },
          "metadata": {
            "tags": []
          },
          "execution_count": 4
        }
      ]
    },
    {
      "cell_type": "code",
      "metadata": {
        "id": "KlMBZa5K0hph"
      },
      "source": [
        "df_hyperpartisan = pd.read_csv('Hyperpartisan_data.csv')\n",
        "df_hyperpartisan = df_hyperpartisan.drop(columns='Unnamed: 0', axis=1)"
      ],
      "execution_count": null,
      "outputs": []
    },
    {
      "cell_type": "code",
      "metadata": {
        "colab": {
          "base_uri": "https://localhost:8080/",
          "height": 279
        },
        "id": "R1hRKzlV5B6S",
        "outputId": "71bf888a-28c5-4cec-cedd-37bec0a304b6"
      },
      "source": [
        "df_hyperpartisan.head()"
      ],
      "execution_count": null,
      "outputs": [
        {
          "output_type": "execute_result",
          "data": {
            "text/html": [
              "<div>\n",
              "<style scoped>\n",
              "    .dataframe tbody tr th:only-of-type {\n",
              "        vertical-align: middle;\n",
              "    }\n",
              "\n",
              "    .dataframe tbody tr th {\n",
              "        vertical-align: top;\n",
              "    }\n",
              "\n",
              "    .dataframe thead th {\n",
              "        text-align: right;\n",
              "    }\n",
              "</style>\n",
              "<table border=\"1\" class=\"dataframe\">\n",
              "  <thead>\n",
              "    <tr style=\"text-align: right;\">\n",
              "      <th></th>\n",
              "      <th>hyperpartisan</th>\n",
              "      <th>published_at</th>\n",
              "      <th>text</th>\n",
              "      <th>title</th>\n",
              "      <th>url</th>\n",
              "    </tr>\n",
              "  </thead>\n",
              "  <tbody>\n",
              "    <tr>\n",
              "      <th>0</th>\n",
              "      <td>True</td>\n",
              "      <td>2017-09-10</td>\n",
              "      <td>Money ( Image by 401(K) 2013) Permission Detai...</td>\n",
              "      <td>Kucinich: Reclaiming the money power</td>\n",
              "      <td>https://www.opednews.com/articles/Kucinich-Rec...</td>\n",
              "    </tr>\n",
              "    <tr>\n",
              "      <th>1</th>\n",
              "      <td>True</td>\n",
              "      <td>2017-10-12</td>\n",
              "      <td>Donald Trump ran on many braggadocios and larg...</td>\n",
              "      <td>Trump Just Woke Up &amp; Viciously Attacked Puerto...</td>\n",
              "      <td>http://bipartisanreport.com/2017/10/12/trump-j...</td>\n",
              "    </tr>\n",
              "    <tr>\n",
              "      <th>2</th>\n",
              "      <td>True</td>\n",
              "      <td>2017-10-11</td>\n",
              "      <td>In response to Joyce Newman&amp;#8217;s recent let...</td>\n",
              "      <td>Liberals wailing about gun control, but what a...</td>\n",
              "      <td>https://www.reviewjournal.com/opinion/letters/...</td>\n",
              "    </tr>\n",
              "    <tr>\n",
              "      <th>3</th>\n",
              "      <td>True</td>\n",
              "      <td>2017-09-24</td>\n",
              "      <td>After Colin Kaepernick rightly chose to kneel ...</td>\n",
              "      <td>Laremy Tunsil joins NFL players in kneeling du...</td>\n",
              "      <td>https://www.redcuprebellion.com/2017/9/24/1635...</td>\n",
              "    </tr>\n",
              "    <tr>\n",
              "      <th>4</th>\n",
              "      <td>False</td>\n",
              "      <td>2017-10-12</td>\n",
              "      <td>Almost a half-century ago, in 1968, the United...</td>\n",
              "      <td>It's 1968 All Over Again</td>\n",
              "      <td>https://www.realclearpolitics.com/articles/201...</td>\n",
              "    </tr>\n",
              "  </tbody>\n",
              "</table>\n",
              "</div>"
            ],
            "text/plain": [
              "   hyperpartisan  ...                                                url\n",
              "0           True  ...  https://www.opednews.com/articles/Kucinich-Rec...\n",
              "1           True  ...  http://bipartisanreport.com/2017/10/12/trump-j...\n",
              "2           True  ...  https://www.reviewjournal.com/opinion/letters/...\n",
              "3           True  ...  https://www.redcuprebellion.com/2017/9/24/1635...\n",
              "4          False  ...  https://www.realclearpolitics.com/articles/201...\n",
              "\n",
              "[5 rows x 5 columns]"
            ]
          },
          "metadata": {
            "tags": []
          },
          "execution_count": 6
        }
      ]
    },
    {
      "cell_type": "code",
      "metadata": {
        "id": "HARjRG-7MlIO"
      },
      "source": [
        "df_hyperpartisan['published_at'] = pd.to_datetime(df_hyperpartisan['published_at'])"
      ],
      "execution_count": null,
      "outputs": []
    },
    {
      "cell_type": "code",
      "metadata": {
        "colab": {
          "base_uri": "https://localhost:8080/"
        },
        "id": "lS2U3KbBOqL9",
        "outputId": "3640dcfe-1e8e-4cb1-aa37-2c5b4761c971"
      },
      "source": [
        "df_hyperpartisan['published_at'].min()"
      ],
      "execution_count": null,
      "outputs": [
        {
          "output_type": "execute_result",
          "data": {
            "text/plain": [
              "Timestamp('1902-02-01 00:00:00')"
            ]
          },
          "metadata": {
            "tags": []
          },
          "execution_count": 24
        }
      ]
    },
    {
      "cell_type": "code",
      "metadata": {
        "colab": {
          "base_uri": "https://localhost:8080/"
        },
        "id": "XASt5LkaOtae",
        "outputId": "77bb0cba-843e-4aac-fdcb-18e4797a7508"
      },
      "source": [
        "df_hyperpartisan['published_at'].max()"
      ],
      "execution_count": null,
      "outputs": [
        {
          "output_type": "execute_result",
          "data": {
            "text/plain": [
              "Timestamp('2018-08-28 00:00:00')"
            ]
          },
          "metadata": {
            "tags": []
          },
          "execution_count": 25
        }
      ]
    },
    {
      "cell_type": "code",
      "metadata": {
        "id": "7n4co_bEOSBm"
      },
      "source": [
        "df_hyperpartisan['year'] = df_hyperpartisan['published_at'].dt.year"
      ],
      "execution_count": null,
      "outputs": []
    },
    {
      "cell_type": "code",
      "metadata": {
        "colab": {
          "base_uri": "https://localhost:8080/",
          "height": 342
        },
        "id": "z1u-AYnMNPGY",
        "outputId": "2dff1df4-e755-4a91-fd2d-6d64bd3aa2c6"
      },
      "source": [
        "import seaborn as sns\n",
        "import matplotlib.pyplot as plt\n",
        "\n",
        "sns.set_theme(style=\"darkgrid\")\n",
        "plt.figure(figsize=(10,5))\n",
        "ax = sns.countplot(x=\"year\", data=df_hyperpartisan)"
      ],
      "execution_count": null,
      "outputs": [
        {
          "output_type": "display_data",
          "data": {
            "image/png": "[encoded data removed]",
            "text/plain": [
              "<Figure size 720x360 with 1 Axes>"
            ]
          },
          "metadata": {
            "tags": []
          }
        }
      ]
    },
    {
      "cell_type": "markdown",
      "metadata": {
        "id": "LhLbViQX1D3G"
      },
      "source": [
        "## **Steps**\n",
        "1. Convert to text and label to array"
      ]
    },
    {
      "cell_type": "code",
      "metadata": {
        "id": "phJjv1fH0uxR"
      },
      "source": [
        "text_array = df_hyperpartisan['text'].to_numpy()"
      ],
      "execution_count": null,
      "outputs": []
    },
    {
      "cell_type": "code",
      "metadata": {
        "id": "13-7jGec2Oct"
      },
      "source": [
        "label_array = df_hyperpartisan['hyperpartisan'].to_numpy()"
      ],
      "execution_count": null,
      "outputs": []
    },
    {
      "cell_type": "markdown",
      "metadata": {
        "id": "G8GOxIcUPuBa"
      },
      "source": [
        "2. GloVe is an unsupervised learning algorithm for obtaining vector representations for words"
      ]
    },
    {
      "cell_type": "code",
      "metadata": {
        "id": "c4j8IBj32S-C"
      },
      "source": [
        "def read_glove(path, dim):\n",
        "    '''\n",
        "    read the glove vectors from path with dimension dim\n",
        "    '''\n",
        "    df = pd.read_csv(path + 'glove.6B.' + str(dim) + 'd.txt', sep=\" \", quoting=3, header=None, index_col=0)\n",
        "    glove = {key: val.values for key, val in df.T.items()}\n",
        "    return glove"
      ],
      "execution_count": null,
      "outputs": []
    },
    {
      "cell_type": "code",
      "metadata": {
        "id": "1WdhFdDd2v3O"
      },
      "source": [
        "def fixedTestSplit(labels):\n",
        "    '''\n",
        "    split into training and held-out test set with balanced class\n",
        "    '''\n",
        "    sss = StratifiedShuffleSplit(n_splits=1, test_size=0.5, random_state = 1)\n",
        "    split_idx = list(sss.split(np.zeros(len(labels)), labels))[0]\n",
        "    return split_idx[0], split_idx[1]"
      ],
      "execution_count": null,
      "outputs": []
    },
    {
      "cell_type": "code",
      "metadata": {
        "id": "erjnXpn32e5o"
      },
      "source": [
        "# set path for data\n",
        "pretrained_wv_path = \"Glove/\"\n",
        "\n",
        "# read in data and glove vectors\n",
        "glove = read_glove(pretrained_wv_path, 50)"
      ],
      "execution_count": null,
      "outputs": []
    },
    {
      "cell_type": "code",
      "metadata": {
        "id": "FSCsVO2W26ed"
      },
      "source": [
        "# split the samples with the same seed to compare results with other methods\n",
        "id1, id2 = fixedTestSplit(label_array)"
      ],
      "execution_count": null,
      "outputs": []
    },
    {
      "cell_type": "code",
      "metadata": {
        "id": "_dTZsGXd3HD3"
      },
      "source": [
        "def gloveVectorize(glove, text):\n",
        "    '''\n",
        "    Find the pretrained glove vectors of the first 1000 words in the articles.\n",
        "    The final vector is the average of the vectors\n",
        "    '''\n",
        "    dim = len(glove[\"the\"])\n",
        "    X = np.zeros( (len(text), dim) )\n",
        "    for text_id, t in enumerate(text):\n",
        "        tmp = np.zeros((1, dim))\n",
        "        \n",
        "        # tokenize and remove stopwords\n",
        "        words = customTokenize(t, rm_stopwords=True)\n",
        "        words = [w for w in words if w in glove.keys()]\n",
        "        for word in words:\n",
        "            tmp[:] += glove[word]\n",
        "        X[text_id, :] = tmp/len(words)\n",
        "    return X"
      ],
      "execution_count": null,
      "outputs": []
    },
    {
      "cell_type": "code",
      "metadata": {
        "id": "fBk-_VPL3Woq"
      },
      "source": [
        "def customTokenize(text, rm_stopwords=False):\n",
        "    '''\n",
        "    lower, strip numbers and punctuation, remove stop words\n",
        "    '''\n",
        "    tokens = nltk.word_tokenize(text)\n",
        "    tokens = [w.lower() for w in tokens]\n",
        "    words = [word for word in tokens if word.isalpha()]\n",
        "    if rm_stopwords:\n",
        "        stop_words = set(stopwords.words('english'))\n",
        "        words = [w for w in words if not w in stop_words]\n",
        "    return words"
      ],
      "execution_count": null,
      "outputs": []
    },
    {
      "cell_type": "code",
      "metadata": {
        "id": "cTZIndOg3QpG"
      },
      "source": [
        "glove_texts = gloveVectorize(glove, text_array)\n",
        "train_x = glove_texts[id1]\n",
        "test_x = glove_texts[id2]"
      ],
      "execution_count": null,
      "outputs": []
    },
    {
      "cell_type": "markdown",
      "metadata": {
        "id": "ClE0l4zv33yM"
      },
      "source": [
        "## **Modeling**"
      ]
    },
    {
      "cell_type": "code",
      "metadata": {
        "colab": {
          "base_uri": "https://localhost:8080/"
        },
        "id": "HVwE_fTg3zbe",
        "outputId": "8d3482af-7af5-42c6-84ea-65e732cfd8a5"
      },
      "source": [
        "from sklearn.pipeline import Pipeline\n",
        "from sklearn.preprocessing import StandardScaler\n",
        "from sklearn.svm import SVC, LinearSVC\n",
        "from sklearn.model_selection import cross_val_score\n",
        "\n",
        "\n",
        "C = [0.5, 0.6, 0.7, 0.9,1,1.1, 1.2, 5,10]\n",
        "for c in C:\n",
        "    kernel_svm = Pipeline([\n",
        "        (\"scaler\", StandardScaler()),\n",
        "        (\"svc\", SVC(C=c, gamma=\"auto\", max_iter = 1000))\n",
        "    ])\n",
        "    print(\"[KernelSVM] C=%f | acc=%f\" %(c,np.mean(cross_val_score(kernel_svm, train_x, label_array[id1], cv=10))))"
      ],
      "execution_count": null,
      "outputs": [
        {
          "output_type": "stream",
          "text": [
            "[KernelSVM] C=0.500000 | acc=0.782955\n",
            "[KernelSVM] C=0.600000 | acc=0.789205\n",
            "[KernelSVM] C=0.700000 | acc=0.782955\n",
            "[KernelSVM] C=0.900000 | acc=0.776705\n",
            "[KernelSVM] C=1.000000 | acc=0.773580\n",
            "[KernelSVM] C=1.100000 | acc=0.776705\n",
            "[KernelSVM] C=1.200000 | acc=0.773580\n",
            "[KernelSVM] C=5.000000 | acc=0.745549\n",
            "[KernelSVM] C=10.000000 | acc=0.754924\n"
          ],
          "name": "stdout"
        }
      ]
    },
    {
      "cell_type": "code",
      "metadata": {
        "colab": {
          "base_uri": "https://localhost:8080/"
        },
        "id": "MCwYlnj74Flx",
        "outputId": "48b7ef60-8a4a-4a4e-d901-eedcd55655bd"
      },
      "source": [
        "from sklearn.linear_model import LogisticRegression\n",
        "\n",
        "C = [0.05, 0.1, 0.5, 0.8, 0.9, 1, 2, 3, 5]\n",
        "for c in C:\n",
        "    lr = LogisticRegression(solver = 'lbfgs', C = c, max_iter=1000)\n",
        "    print(\"[LogisticR] C=%f | acc=%f\" %(c,np.mean(cross_val_score(lr, train_x, label_array[id1], cv=10))))"
      ],
      "execution_count": null,
      "outputs": [
        {
          "output_type": "stream",
          "text": [
            "[LogisticR] C=0.050000 | acc=0.636648\n",
            "[LogisticR] C=0.100000 | acc=0.686458\n",
            "[LogisticR] C=0.500000 | acc=0.746023\n",
            "[LogisticR] C=0.800000 | acc=0.752273\n",
            "[LogisticR] C=0.900000 | acc=0.752273\n",
            "[LogisticR] C=1.000000 | acc=0.752273\n",
            "[LogisticR] C=2.000000 | acc=0.746117\n",
            "[LogisticR] C=3.000000 | acc=0.742992\n",
            "[LogisticR] C=5.000000 | acc=0.752462\n"
          ],
          "name": "stdout"
        }
      ]
    },
    {
      "cell_type": "code",
      "metadata": {
        "colab": {
          "base_uri": "https://localhost:8080/"
        },
        "id": "LjFPUWfS4Q7-",
        "outputId": "16a12a4e-c12e-4ed6-e59e-db48512a7de5"
      },
      "source": [
        "from sklearn.metrics import accuracy_score, confusion_matrix, precision_score, recall_score\n",
        "\n",
        "model = Pipeline([\n",
        "            (\"scaler\", StandardScaler()),\n",
        "            (\"svc\", SVC(C=0.9, gamma=\"auto\", max_iter = 5000))\n",
        "        ])\n",
        "\n",
        "# model = LogisticRegression(solver = 'lbfgs', C = 1, max_iter=1000)\n",
        "model.fit(train_x, label_array[id1])\n",
        "trn_pred = model.predict(train_x)\n",
        "tst_pred = model.predict(test_x)\n",
        "print('Train accuracy: ', accuracy_score(label_array[id1], trn_pred))\n",
        "print('Test accuracy: ', accuracy_score(label_array[id2], tst_pred))\n",
        "print('Test precision: ', precision_score(label_array[id2], tst_pred, pos_label=1))\n",
        "print('Test recall: ', recall_score(label_array[id2], tst_pred, average=\"binary\", pos_label=1))\n",
        "confusion_matrix(label_array[id2], tst_pred)"
      ],
      "execution_count": null,
      "outputs": [
        {
          "output_type": "stream",
          "text": [
            "Train accuracy:  0.8726708074534162\n",
            "Test accuracy:  0.7678018575851393\n",
            "Test precision:  0.72\n",
            "Test recall:  0.6050420168067226\n"
          ],
          "name": "stdout"
        },
        {
          "output_type": "execute_result",
          "data": {
            "text/plain": [
              "array([[176,  28],\n",
              "       [ 47,  72]])"
            ]
          },
          "metadata": {
            "tags": []
          },
          "execution_count": 42
        }
      ]
    },
    {
      "cell_type": "code",
      "metadata": {
        "id": "q5FYmH9i93LL"
      },
      "source": [
        "import pickle\n",
        "\n",
        "# fit the model to all samples\n",
        "model.fit(train_x, label_array[id1])\n",
        "# save the model\n",
        "pickle.dump(model, open('SVM_Glove.sav', 'wb'))\n",
        "# save the predictions\n",
        "np.save('SVM_Glove_pred', tst_pred)"
      ],
      "execution_count": null,
      "outputs": []
    }
  ]
}